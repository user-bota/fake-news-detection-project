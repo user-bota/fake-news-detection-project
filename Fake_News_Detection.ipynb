{
  "cells": [
    {
      "cell_type": "markdown",
      "metadata": {
        "id": "U2a-0MdpdTjb"
      },
      "source": [
        "## FAKE NEWS DETECTION MODEL\n",
        "\n",
        "Instructions: You only have to run the Imports, Loading, and User Input sections. When asked for user input, put 1 if you have a text to analyze or put 2 if you have an URL to extract text from. Our model will then tell you whether it is fake or not.\n",
        "\n",
        "Note for URLs: Some websites do not give permission to extract text to prevent being used as AI training material."
      ]
    },
    {
      "cell_type": "markdown",
      "metadata": {
        "id": "CBxKSGYj557J"
      },
      "source": [
        "# Imports + Mounting"
      ]
    },
    {
      "cell_type": "code",
      "execution_count": null,
      "metadata": {
        "id": "bewpU2Dt_fRa",
        "collapsed": true,
        "colab": {
          "base_uri": "https://localhost:8080/"
        },
        "outputId": "37f6688e-eaec-4613-8594-9f9e3a4dc1e0"
      },
      "outputs": [
        {
          "output_type": "stream",
          "name": "stderr",
          "text": [
            "[nltk_data] Downloading package punkt_tab to /root/nltk_data...\n",
            "[nltk_data]   Package punkt_tab is already up-to-date!\n",
            "[nltk_data] Downloading package wordnet to /root/nltk_data...\n",
            "[nltk_data]   Package wordnet is already up-to-date!\n",
            "[nltk_data] Downloading package stopwords to /root/nltk_data...\n",
            "[nltk_data]   Package stopwords is already up-to-date!\n"
          ]
        },
        {
          "output_type": "stream",
          "name": "stdout",
          "text": [
            "Requirement already satisfied: lxml[html_clean] in /usr/local/lib/python3.11/dist-packages (5.3.1)\n",
            "Requirement already satisfied: lxml_html_clean in /usr/local/lib/python3.11/dist-packages (from lxml[html_clean]) (0.4.1)\n",
            "Requirement already satisfied: newspaper3k in /usr/local/lib/python3.11/dist-packages (0.2.8)\n",
            "Requirement already satisfied: beautifulsoup4>=4.4.1 in /usr/local/lib/python3.11/dist-packages (from newspaper3k) (4.13.3)\n",
            "Requirement already satisfied: Pillow>=3.3.0 in /usr/local/lib/python3.11/dist-packages (from newspaper3k) (11.1.0)\n",
            "Requirement already satisfied: PyYAML>=3.11 in /usr/local/lib/python3.11/dist-packages (from newspaper3k) (6.0.2)\n",
            "Requirement already satisfied: cssselect>=0.9.2 in /usr/local/lib/python3.11/dist-packages (from newspaper3k) (1.3.0)\n",
            "Requirement already satisfied: lxml>=3.6.0 in /usr/local/lib/python3.11/dist-packages (from newspaper3k) (5.3.1)\n",
            "Requirement already satisfied: nltk>=3.2.1 in /usr/local/lib/python3.11/dist-packages (from newspaper3k) (3.9.1)\n",
            "Requirement already satisfied: requests>=2.10.0 in /usr/local/lib/python3.11/dist-packages (from newspaper3k) (2.32.3)\n",
            "Requirement already satisfied: feedparser>=5.2.1 in /usr/local/lib/python3.11/dist-packages (from newspaper3k) (6.0.11)\n",
            "Requirement already satisfied: tldextract>=2.0.1 in /usr/local/lib/python3.11/dist-packages (from newspaper3k) (5.1.3)\n",
            "Requirement already satisfied: feedfinder2>=0.0.4 in /usr/local/lib/python3.11/dist-packages (from newspaper3k) (0.0.4)\n",
            "Requirement already satisfied: jieba3k>=0.35.1 in /usr/local/lib/python3.11/dist-packages (from newspaper3k) (0.35.1)\n",
            "Requirement already satisfied: python-dateutil>=2.5.3 in /usr/local/lib/python3.11/dist-packages (from newspaper3k) (2.8.2)\n",
            "Requirement already satisfied: tinysegmenter==0.3 in /usr/local/lib/python3.11/dist-packages (from newspaper3k) (0.3)\n",
            "Requirement already satisfied: soupsieve>1.2 in /usr/local/lib/python3.11/dist-packages (from beautifulsoup4>=4.4.1->newspaper3k) (2.6)\n",
            "Requirement already satisfied: typing-extensions>=4.0.0 in /usr/local/lib/python3.11/dist-packages (from beautifulsoup4>=4.4.1->newspaper3k) (4.12.2)\n",
            "Requirement already satisfied: six in /usr/local/lib/python3.11/dist-packages (from feedfinder2>=0.0.4->newspaper3k) (1.17.0)\n",
            "Requirement already satisfied: sgmllib3k in /usr/local/lib/python3.11/dist-packages (from feedparser>=5.2.1->newspaper3k) (1.0.0)\n",
            "Requirement already satisfied: click in /usr/local/lib/python3.11/dist-packages (from nltk>=3.2.1->newspaper3k) (8.1.8)\n",
            "Requirement already satisfied: joblib in /usr/local/lib/python3.11/dist-packages (from nltk>=3.2.1->newspaper3k) (1.4.2)\n",
            "Requirement already satisfied: regex>=2021.8.3 in /usr/local/lib/python3.11/dist-packages (from nltk>=3.2.1->newspaper3k) (2024.11.6)\n",
            "Requirement already satisfied: tqdm in /usr/local/lib/python3.11/dist-packages (from nltk>=3.2.1->newspaper3k) (4.67.1)\n",
            "Requirement already satisfied: charset-normalizer<4,>=2 in /usr/local/lib/python3.11/dist-packages (from requests>=2.10.0->newspaper3k) (3.4.1)\n",
            "Requirement already satisfied: idna<4,>=2.5 in /usr/local/lib/python3.11/dist-packages (from requests>=2.10.0->newspaper3k) (3.10)\n",
            "Requirement already satisfied: urllib3<3,>=1.21.1 in /usr/local/lib/python3.11/dist-packages (from requests>=2.10.0->newspaper3k) (2.3.0)\n",
            "Requirement already satisfied: certifi>=2017.4.17 in /usr/local/lib/python3.11/dist-packages (from requests>=2.10.0->newspaper3k) (2025.1.31)\n",
            "Requirement already satisfied: requests-file>=1.4 in /usr/local/lib/python3.11/dist-packages (from tldextract>=2.0.1->newspaper3k) (2.1.0)\n",
            "Requirement already satisfied: filelock>=3.0.8 in /usr/local/lib/python3.11/dist-packages (from tldextract>=2.0.1->newspaper3k) (3.17.0)\n"
          ]
        }
      ],
      "source": [
        "# Basic imports\n",
        "import math\n",
        "import io\n",
        "import os\n",
        "\n",
        "import numpy as np\n",
        "import pandas as pd\n",
        "import scipy.stats as ss\n",
        "import seaborn as sns\n",
        "import matplotlib.pyplot as plt\n",
        "\n",
        "# counter: for counting words to make plot\n",
        "from collections import Counter\n",
        "\n",
        "# nltk: for removing stopwords and lemmatization\n",
        "import nltk\n",
        "nltk.download('punkt_tab')\n",
        "nltk.download('wordnet')\n",
        "nltk.download('stopwords')\n",
        "from nltk.corpus import stopwords\n",
        "from nltk.stem import WordNetLemmatizer\n",
        "from nltk.tokenize import word_tokenize\n",
        "\n",
        "# sklearn\n",
        "from sklearn.model_selection import train_test_split # for splitting data\n",
        "from sklearn.feature_extraction.text import TfidfVectorizer # for vectorizer\n",
        "from sklearn.manifold import TSNE # for visualizing the vectorized data\n",
        "from sklearn.linear_model import LogisticRegression # for logistic regression\n",
        "from sklearn.svm import SVC # for SVM\n",
        "from sklearn.tree import DecisionTreeClassifier # for decision tree\n",
        "from sklearn.ensemble import BaggingClassifier # for bagging and adaboost\n",
        "from sklearn.metrics import accuracy_score # for calculating accuracy scores\n",
        "from sklearn.metrics import roc_curve, auc, roc_auc_score, confusion_matrix # for evaluation metrics\n",
        "from sklearn.metrics import precision_score, recall_score, f1_score # more evaluation metrics\n",
        "\n",
        "# keras: for artificial neural networks\n",
        "import keras\n",
        "from keras.models import Sequential\n",
        "from keras.layers import Dense, Input, Dropout\n",
        "\n",
        "# pickle: for saving models and sets\n",
        "import pickle\n",
        "\n",
        "# lxml[html_clean] and newspaper3k: for extracting words from article URLs\n",
        "!pip install lxml[html_clean]\n",
        "!pip install newspaper3k\n",
        "from newspaper import Article"
      ]
    },
    {
      "cell_type": "code",
      "execution_count": null,
      "metadata": {
        "id": "NRw1OTxafgeB",
        "colab": {
          "base_uri": "https://localhost:8080/"
        },
        "outputId": "36de198c-6758-47ee-d47a-52fd6456a192"
      },
      "outputs": [
        {
          "output_type": "stream",
          "name": "stdout",
          "text": [
            "Mounted at /content/drive\n"
          ]
        }
      ],
      "source": [
        "from google.colab import drive\n",
        "drive.mount('/content/drive', force_remount = True)"
      ]
    },
    {
      "cell_type": "code",
      "execution_count": null,
      "metadata": {
        "id": "h-YiTyWQf53t"
      },
      "outputs": [],
      "source": [
        "pathname = \"/content/drive/My Drive/Data Mining Project\"\n",
        "os.chdir(pathname)"
      ]
    },
    {
      "cell_type": "markdown",
      "source": [
        "# Analysis"
      ],
      "metadata": {
        "id": "56JYTynPB_Aj"
      }
    },
    {
      "cell_type": "markdown",
      "metadata": {
        "id": "izKcbRllfeOq"
      },
      "source": [
        "## 1. Getting The Dataset"
      ]
    },
    {
      "cell_type": "code",
      "source": [
        "fake_news = pd.read_csv('/content/drive/My Drive/Data Mining Project/Datasets/Fake.csv')\n",
        "true_news = pd.read_csv('/content/drive/My Drive/Data Mining Project/Datasets/True.csv')"
      ],
      "metadata": {
        "id": "KB4TM5uOiEZJ"
      },
      "execution_count": null,
      "outputs": []
    },
    {
      "cell_type": "code",
      "source": [
        "fake_news['combined'] = fake_news['title'] + \" \" + fake_news['text']\n",
        "true_news['combined'] = true_news['title'] + \" \" + true_news['text']\n",
        "fake_news['label'] = 1\n",
        "true_news['label'] = 0"
      ],
      "metadata": {
        "id": "ti9xhLux9-gJ"
      },
      "execution_count": null,
      "outputs": []
    },
    {
      "cell_type": "code",
      "source": [
        "fake_news.head()"
      ],
      "metadata": {
        "colab": {
          "base_uri": "https://localhost:8080/",
          "height": 293
        },
        "id": "VZQrJ-lf-b1Y",
        "outputId": "421c58ca-5956-4622-9ce7-6b810bdffa7a"
      },
      "execution_count": null,
      "outputs": [
        {
          "output_type": "execute_result",
          "data": {
            "text/plain": [
              "                                               title  \\\n",
              "0   Donald Trump Sends Out Embarrassing New Year’...   \n",
              "1   Drunk Bragging Trump Staffer Started Russian ...   \n",
              "2   Sheriff David Clarke Becomes An Internet Joke...   \n",
              "3   Trump Is So Obsessed He Even Has Obama’s Name...   \n",
              "4   Pope Francis Just Called Out Donald Trump Dur...   \n",
              "\n",
              "                                                text subject  \\\n",
              "0  Donald Trump just couldn t wish all Americans ...    News   \n",
              "1  House Intelligence Committee Chairman Devin Nu...    News   \n",
              "2  On Friday, it was revealed that former Milwauk...    News   \n",
              "3  On Christmas day, Donald Trump announced that ...    News   \n",
              "4  Pope Francis used his annual Christmas Day mes...    News   \n",
              "\n",
              "                date                                           combined  label  \n",
              "0  December 31, 2017   Donald Trump Sends Out Embarrassing New Year’...      1  \n",
              "1  December 31, 2017   Drunk Bragging Trump Staffer Started Russian ...      1  \n",
              "2  December 30, 2017   Sheriff David Clarke Becomes An Internet Joke...      1  \n",
              "3  December 29, 2017   Trump Is So Obsessed He Even Has Obama’s Name...      1  \n",
              "4  December 25, 2017   Pope Francis Just Called Out Donald Trump Dur...      1  "
            ],
            "text/html": [
              "\n",
              "  <div id=\"df-035d7054-3de7-4e15-8d1a-03d89040b4d8\" class=\"colab-df-container\">\n",
              "    <div>\n",
              "<style scoped>\n",
              "    .dataframe tbody tr th:only-of-type {\n",
              "        vertical-align: middle;\n",
              "    }\n",
              "\n",
              "    .dataframe tbody tr th {\n",
              "        vertical-align: top;\n",
              "    }\n",
              "\n",
              "    .dataframe thead th {\n",
              "        text-align: right;\n",
              "    }\n",
              "</style>\n",
              "<table border=\"1\" class=\"dataframe\">\n",
              "  <thead>\n",
              "    <tr style=\"text-align: right;\">\n",
              "      <th></th>\n",
              "      <th>title</th>\n",
              "      <th>text</th>\n",
              "      <th>subject</th>\n",
              "      <th>date</th>\n",
              "      <th>combined</th>\n",
              "      <th>label</th>\n",
              "    </tr>\n",
              "  </thead>\n",
              "  <tbody>\n",
              "    <tr>\n",
              "      <th>0</th>\n",
              "      <td>Donald Trump Sends Out Embarrassing New Year’...</td>\n",
              "      <td>Donald Trump just couldn t wish all Americans ...</td>\n",
              "      <td>News</td>\n",
              "      <td>December 31, 2017</td>\n",
              "      <td>Donald Trump Sends Out Embarrassing New Year’...</td>\n",
              "      <td>1</td>\n",
              "    </tr>\n",
              "    <tr>\n",
              "      <th>1</th>\n",
              "      <td>Drunk Bragging Trump Staffer Started Russian ...</td>\n",
              "      <td>House Intelligence Committee Chairman Devin Nu...</td>\n",
              "      <td>News</td>\n",
              "      <td>December 31, 2017</td>\n",
              "      <td>Drunk Bragging Trump Staffer Started Russian ...</td>\n",
              "      <td>1</td>\n",
              "    </tr>\n",
              "    <tr>\n",
              "      <th>2</th>\n",
              "      <td>Sheriff David Clarke Becomes An Internet Joke...</td>\n",
              "      <td>On Friday, it was revealed that former Milwauk...</td>\n",
              "      <td>News</td>\n",
              "      <td>December 30, 2017</td>\n",
              "      <td>Sheriff David Clarke Becomes An Internet Joke...</td>\n",
              "      <td>1</td>\n",
              "    </tr>\n",
              "    <tr>\n",
              "      <th>3</th>\n",
              "      <td>Trump Is So Obsessed He Even Has Obama’s Name...</td>\n",
              "      <td>On Christmas day, Donald Trump announced that ...</td>\n",
              "      <td>News</td>\n",
              "      <td>December 29, 2017</td>\n",
              "      <td>Trump Is So Obsessed He Even Has Obama’s Name...</td>\n",
              "      <td>1</td>\n",
              "    </tr>\n",
              "    <tr>\n",
              "      <th>4</th>\n",
              "      <td>Pope Francis Just Called Out Donald Trump Dur...</td>\n",
              "      <td>Pope Francis used his annual Christmas Day mes...</td>\n",
              "      <td>News</td>\n",
              "      <td>December 25, 2017</td>\n",
              "      <td>Pope Francis Just Called Out Donald Trump Dur...</td>\n",
              "      <td>1</td>\n",
              "    </tr>\n",
              "  </tbody>\n",
              "</table>\n",
              "</div>\n",
              "    <div class=\"colab-df-buttons\">\n",
              "\n",
              "  <div class=\"colab-df-container\">\n",
              "    <button class=\"colab-df-convert\" onclick=\"convertToInteractive('df-035d7054-3de7-4e15-8d1a-03d89040b4d8')\"\n",
              "            title=\"Convert this dataframe to an interactive table.\"\n",
              "            style=\"display:none;\">\n",
              "\n",
              "  <svg xmlns=\"http://www.w3.org/2000/svg\" height=\"24px\" viewBox=\"0 -960 960 960\">\n",
              "    <path d=\"M120-120v-720h720v720H120Zm60-500h600v-160H180v160Zm220 220h160v-160H400v160Zm0 220h160v-160H400v160ZM180-400h160v-160H180v160Zm440 0h160v-160H620v160ZM180-180h160v-160H180v160Zm440 0h160v-160H620v160Z\"/>\n",
              "  </svg>\n",
              "    </button>\n",
              "\n",
              "  <style>\n",
              "    .colab-df-container {\n",
              "      display:flex;\n",
              "      gap: 12px;\n",
              "    }\n",
              "\n",
              "    .colab-df-convert {\n",
              "      background-color: #E8F0FE;\n",
              "      border: none;\n",
              "      border-radius: 50%;\n",
              "      cursor: pointer;\n",
              "      display: none;\n",
              "      fill: #1967D2;\n",
              "      height: 32px;\n",
              "      padding: 0 0 0 0;\n",
              "      width: 32px;\n",
              "    }\n",
              "\n",
              "    .colab-df-convert:hover {\n",
              "      background-color: #E2EBFA;\n",
              "      box-shadow: 0px 1px 2px rgba(60, 64, 67, 0.3), 0px 1px 3px 1px rgba(60, 64, 67, 0.15);\n",
              "      fill: #174EA6;\n",
              "    }\n",
              "\n",
              "    .colab-df-buttons div {\n",
              "      margin-bottom: 4px;\n",
              "    }\n",
              "\n",
              "    [theme=dark] .colab-df-convert {\n",
              "      background-color: #3B4455;\n",
              "      fill: #D2E3FC;\n",
              "    }\n",
              "\n",
              "    [theme=dark] .colab-df-convert:hover {\n",
              "      background-color: #434B5C;\n",
              "      box-shadow: 0px 1px 3px 1px rgba(0, 0, 0, 0.15);\n",
              "      filter: drop-shadow(0px 1px 2px rgba(0, 0, 0, 0.3));\n",
              "      fill: #FFFFFF;\n",
              "    }\n",
              "  </style>\n",
              "\n",
              "    <script>\n",
              "      const buttonEl =\n",
              "        document.querySelector('#df-035d7054-3de7-4e15-8d1a-03d89040b4d8 button.colab-df-convert');\n",
              "      buttonEl.style.display =\n",
              "        google.colab.kernel.accessAllowed ? 'block' : 'none';\n",
              "\n",
              "      async function convertToInteractive(key) {\n",
              "        const element = document.querySelector('#df-035d7054-3de7-4e15-8d1a-03d89040b4d8');\n",
              "        const dataTable =\n",
              "          await google.colab.kernel.invokeFunction('convertToInteractive',\n",
              "                                                    [key], {});\n",
              "        if (!dataTable) return;\n",
              "\n",
              "        const docLinkHtml = 'Like what you see? Visit the ' +\n",
              "          '<a target=\"_blank\" href=https://colab.research.google.com/notebooks/data_table.ipynb>data table notebook</a>'\n",
              "          + ' to learn more about interactive tables.';\n",
              "        element.innerHTML = '';\n",
              "        dataTable['output_type'] = 'display_data';\n",
              "        await google.colab.output.renderOutput(dataTable, element);\n",
              "        const docLink = document.createElement('div');\n",
              "        docLink.innerHTML = docLinkHtml;\n",
              "        element.appendChild(docLink);\n",
              "      }\n",
              "    </script>\n",
              "  </div>\n",
              "\n",
              "\n",
              "<div id=\"df-8b310977-8bd5-413c-916b-662be87df58d\">\n",
              "  <button class=\"colab-df-quickchart\" onclick=\"quickchart('df-8b310977-8bd5-413c-916b-662be87df58d')\"\n",
              "            title=\"Suggest charts\"\n",
              "            style=\"display:none;\">\n",
              "\n",
              "<svg xmlns=\"http://www.w3.org/2000/svg\" height=\"24px\"viewBox=\"0 0 24 24\"\n",
              "     width=\"24px\">\n",
              "    <g>\n",
              "        <path d=\"M19 3H5c-1.1 0-2 .9-2 2v14c0 1.1.9 2 2 2h14c1.1 0 2-.9 2-2V5c0-1.1-.9-2-2-2zM9 17H7v-7h2v7zm4 0h-2V7h2v10zm4 0h-2v-4h2v4z\"/>\n",
              "    </g>\n",
              "</svg>\n",
              "  </button>\n",
              "\n",
              "<style>\n",
              "  .colab-df-quickchart {\n",
              "      --bg-color: #E8F0FE;\n",
              "      --fill-color: #1967D2;\n",
              "      --hover-bg-color: #E2EBFA;\n",
              "      --hover-fill-color: #174EA6;\n",
              "      --disabled-fill-color: #AAA;\n",
              "      --disabled-bg-color: #DDD;\n",
              "  }\n",
              "\n",
              "  [theme=dark] .colab-df-quickchart {\n",
              "      --bg-color: #3B4455;\n",
              "      --fill-color: #D2E3FC;\n",
              "      --hover-bg-color: #434B5C;\n",
              "      --hover-fill-color: #FFFFFF;\n",
              "      --disabled-bg-color: #3B4455;\n",
              "      --disabled-fill-color: #666;\n",
              "  }\n",
              "\n",
              "  .colab-df-quickchart {\n",
              "    background-color: var(--bg-color);\n",
              "    border: none;\n",
              "    border-radius: 50%;\n",
              "    cursor: pointer;\n",
              "    display: none;\n",
              "    fill: var(--fill-color);\n",
              "    height: 32px;\n",
              "    padding: 0;\n",
              "    width: 32px;\n",
              "  }\n",
              "\n",
              "  .colab-df-quickchart:hover {\n",
              "    background-color: var(--hover-bg-color);\n",
              "    box-shadow: 0 1px 2px rgba(60, 64, 67, 0.3), 0 1px 3px 1px rgba(60, 64, 67, 0.15);\n",
              "    fill: var(--button-hover-fill-color);\n",
              "  }\n",
              "\n",
              "  .colab-df-quickchart-complete:disabled,\n",
              "  .colab-df-quickchart-complete:disabled:hover {\n",
              "    background-color: var(--disabled-bg-color);\n",
              "    fill: var(--disabled-fill-color);\n",
              "    box-shadow: none;\n",
              "  }\n",
              "\n",
              "  .colab-df-spinner {\n",
              "    border: 2px solid var(--fill-color);\n",
              "    border-color: transparent;\n",
              "    border-bottom-color: var(--fill-color);\n",
              "    animation:\n",
              "      spin 1s steps(1) infinite;\n",
              "  }\n",
              "\n",
              "  @keyframes spin {\n",
              "    0% {\n",
              "      border-color: transparent;\n",
              "      border-bottom-color: var(--fill-color);\n",
              "      border-left-color: var(--fill-color);\n",
              "    }\n",
              "    20% {\n",
              "      border-color: transparent;\n",
              "      border-left-color: var(--fill-color);\n",
              "      border-top-color: var(--fill-color);\n",
              "    }\n",
              "    30% {\n",
              "      border-color: transparent;\n",
              "      border-left-color: var(--fill-color);\n",
              "      border-top-color: var(--fill-color);\n",
              "      border-right-color: var(--fill-color);\n",
              "    }\n",
              "    40% {\n",
              "      border-color: transparent;\n",
              "      border-right-color: var(--fill-color);\n",
              "      border-top-color: var(--fill-color);\n",
              "    }\n",
              "    60% {\n",
              "      border-color: transparent;\n",
              "      border-right-color: var(--fill-color);\n",
              "    }\n",
              "    80% {\n",
              "      border-color: transparent;\n",
              "      border-right-color: var(--fill-color);\n",
              "      border-bottom-color: var(--fill-color);\n",
              "    }\n",
              "    90% {\n",
              "      border-color: transparent;\n",
              "      border-bottom-color: var(--fill-color);\n",
              "    }\n",
              "  }\n",
              "</style>\n",
              "\n",
              "  <script>\n",
              "    async function quickchart(key) {\n",
              "      const quickchartButtonEl =\n",
              "        document.querySelector('#' + key + ' button');\n",
              "      quickchartButtonEl.disabled = true;  // To prevent multiple clicks.\n",
              "      quickchartButtonEl.classList.add('colab-df-spinner');\n",
              "      try {\n",
              "        const charts = await google.colab.kernel.invokeFunction(\n",
              "            'suggestCharts', [key], {});\n",
              "      } catch (error) {\n",
              "        console.error('Error during call to suggestCharts:', error);\n",
              "      }\n",
              "      quickchartButtonEl.classList.remove('colab-df-spinner');\n",
              "      quickchartButtonEl.classList.add('colab-df-quickchart-complete');\n",
              "    }\n",
              "    (() => {\n",
              "      let quickchartButtonEl =\n",
              "        document.querySelector('#df-8b310977-8bd5-413c-916b-662be87df58d button');\n",
              "      quickchartButtonEl.style.display =\n",
              "        google.colab.kernel.accessAllowed ? 'block' : 'none';\n",
              "    })();\n",
              "  </script>\n",
              "</div>\n",
              "\n",
              "    </div>\n",
              "  </div>\n"
            ],
            "application/vnd.google.colaboratory.intrinsic+json": {
              "type": "dataframe",
              "variable_name": "fake_news",
              "summary": "{\n  \"name\": \"fake_news\",\n  \"rows\": 23481,\n  \"fields\": [\n    {\n      \"column\": \"title\",\n      \"properties\": {\n        \"dtype\": \"string\",\n        \"num_unique_values\": 17903,\n        \"samples\": [\n          \" Fox News Mocked Into Oblivion After This F*cking STUPID Attempt To Make Steve Bannon Look Sane (TWEETS)\",\n          \"BREAKING: FL GOV RICK SCOTT Calls for FBI Director to Resign\",\n          \" WATCH: Mike Pence\\u2019s Photo Op With Puerto Rico Survivors Just Went TERRIBLY Wrong (VIDEO)\"\n        ],\n        \"semantic_type\": \"\",\n        \"description\": \"\"\n      }\n    },\n    {\n      \"column\": \"text\",\n      \"properties\": {\n        \"dtype\": \"string\",\n        \"num_unique_values\": 17455,\n        \"samples\": [\n          \"The moral decay continues The Kapiolani Medical Center for Women and Children at the University of Hawaii is currently recruiting pregnant girls and women to participate in second-trimester abortions to measure their bleeding during the operation, with and without antihemorrhagic drugs. According to the Clinical Trials website, run by the National Institutes of Health, participants must be at least 14 years old and 18-24 weeks pregnant.The controversial study, led by Bliss Kaneshiro, MD and Kate Whitehouse, DO, will monitor bleeding during D&E abortions to determine the effects of the drug oxytocin, commonly used to minimize blood loss and decrease the risk of hemorrhage.The clinical trial, called  Effects of Oxytocin on Bleeding Outcomes during Dilation and Evacuation  began in October 2014 and is a collaboration between UH, Society of Family Planning and the University of Washington.The Society of Family Planning funds a number of similar research projects, such as experimenting with the dosage of Misoprostol, a uterine contracting agent, prior to surgical abortions at 13-18 weeks and exploring umbilical cord injections to produce fetal death prior to late-term abortions.In the UH study, researchers will carry out a  randomized, double-blinded, placebo-controlled trials,  to determine the effect of oxytocin s use on uterine bleeding, meaning that they will either provide or deny intravenous oxytocin to the women.Reports suggest that some doctors are concerned that withholding oxytocin during surgery may put patients, especially teen girls, at risk. This study is reminiscent of Nazi concentration camp experiments. I pity the poor women who are being treated like lab rats, especially those who are denied the drug to reduce hemorrhaging,  said Troy Newman, President of Operation Rescue.Dilation and evacuation abortions are surgical procedures that involve dismembering the pre-born baby with forceps, scraping the inside of the uterus with a curette to remove any residuals and finally suctioning out the womb to make sure the contents are completely removed.After the abortion, the corpse of the fetus is reassembled and examined to ensure everything was successfully removed and that the abortion was complete.The study is hoping to attract up to 166 test subjects and is expected to conclude in July 2015.Via: Breitbart News\",\n          \"CNN was quick to scoop up Corey Lewandowski after Donald Trump kicked him out of his role as campaign manager, but his first week on the job is going pretty much exactly how you would expect it to go   terribly.Not only has Lewandowski proven himself to be pretty much like a paid spokesman for Trump, but his defense of the disgraced GOP candidate isn t being received well. Earlier this week, Lewandowski revealed that he was under contract and couldn t criticize The Donald, even after being fired from the campaign. Today, Lewandowski got called out by Hillary Clinton surrogate Christine Quinn for hyping Trump up to be an expert on the Brexit decision   a suggestion that was clearly false.On Monday s edition of CNN s New Day, Lewandowski made another pathetic defense of Trump by trying to reframe the candidate s disgusting reaction to Brexit, where he mostly spoke about how much the decision would be good for his Scotland golf resort. Lewandowski s defense was: Obviously the U.S. dollar has become much stronger now against the British pound. If you re going to spend money in Europe, now would actually be a good time to go with the fall of the pound.What you have is a world view, so what you have is someone who is saying,  Let s look at this from the U.S. perspective. If you want to go and travel overseas   just from a monetary perspective   now is the right time to do that because what you re getting is more for your dollar. Quinn wasn t having it. She ripped into Lewandowski, firing back, Donald Trump is not running to be travel agent of the world, he s running to be president of the United States.  She continued: What he said wasn t a commentary on international markets, it was,  When the pound goes down, more people will come to my golf course. Donald Trump s main concern isn t the international markets, it isn t the impact that Brexit will have on hard working Americans  401Ks, it s himself. How can he make more money, how can he put more money in his bank account? Lewandowski compared the Brexit decision to Trump s rise in the GOP, and Quinn once again called him out and put him back in his place. She said: Trump touted that he saw this coming. That s ridiculous because when he was first asked about Brexit by the press, he didn t appear to know what it was. Lewandowski tried to counter by insisting that People are too smart, they are tired of being told what to do.  He then tried to commend Trump for being a selfish moron: You know what Donald Trump said about Brexit? What he said was, you don t have to listen to me because it s not my decision. He didn t weigh in like Hillary Clinton did, like Barack Obama did, saying that you can t do this. Quinn fought back, Because he didn t know what it was. Lewandowski was fighting a losing battle. Trump s reaction to Brexit was just as terrifying as it was humorous   it truly proved that Trump knows nothing about foreign affairs, and hasn t spent any time educating himself since the beginning of his presidential candidacy. If only some of the hours he spent getting into fights on Twitter were being used for learning about how the world works. But instead, he once again exposed himself as an unfit choice for President. And when people like Lewandowski try to make sense of his idiocy, they only make themselves look equally foolish.You can watch the embarrassing video below:Featured image via screen capture\",\n          \"A Michigan woman decided to defend against tyranny? when she and another shopper couldn t agree over who got to buy the last notebook on the shelf at the Novi Towne Center store.According to ABC 13, the brawl   yes, brawl    involved two Farmington Hills residents, ages 46 and 32, and a mother and daughter from South Lyon, ages 51 and 20. In other words, these were all grown adults who should have known better but hey   there was only one notebook on the shelf, and we ve all seen what happens in those post-apocalyptic movies when a store is down to the last gallon of milk, right?Two of the women, one of whom was the unnamed 20-year-old, reached for the notebook at the same time. The 46 and 32-year-olds apparently decided that she wasn t getting their goddamn notebook and began pulling her hair.Then, because this had almost hit peak  trailer park,  the 20-year-old s mother decided to go for bonus points by pulling out her gun. Fortunately, someone pushed her aside before she could do any harm.This is one of the NRA s  responsible gun owners  (conservatives can t dismiss this one, as it is confirmed that she is a concealed carry permit holder)   ready to leap into action at the most minor sign of danger and make things worse by turning the situation potentially deadly.Watch it happen below:Featured image via screengrab\"\n        ],\n        \"semantic_type\": \"\",\n        \"description\": \"\"\n      }\n    },\n    {\n      \"column\": \"subject\",\n      \"properties\": {\n        \"dtype\": \"category\",\n        \"num_unique_values\": 6,\n        \"samples\": [\n          \"News\",\n          \"politics\",\n          \"Middle-east\"\n        ],\n        \"semantic_type\": \"\",\n        \"description\": \"\"\n      }\n    },\n    {\n      \"column\": \"date\",\n      \"properties\": {\n        \"dtype\": \"category\",\n        \"num_unique_values\": 1681,\n        \"samples\": [\n          \"Jun 5, 2015\",\n          \"August 28, 2016\",\n          \"June 3, 2017\"\n        ],\n        \"semantic_type\": \"\",\n        \"description\": \"\"\n      }\n    },\n    {\n      \"column\": \"combined\",\n      \"properties\": {\n        \"dtype\": \"string\",\n        \"num_unique_values\": 17908,\n        \"samples\": [\n          \" Two Of Trump\\u2019s Top Picks Accused Of Violently Assaulting Women Donald Trump s election was almost derailed in October when a video was released with Trump bragging about grabbing women  by the pussy.  Unfortunately for the world, that wasn t a deal breaker for the 25 percent of Americans who voted for the demagogic self-described billionaire. Since rumored sexual assault isn t a big enough deal to keep someone out of the White House, why not put more people who are accused of violence against women in, right?As Trump has named cabinet pick after cabinet pick, each worse than the one before them, the fact that each comes with a controversial past seems to bother no one on the right.Trump s pick for national security advisor is a white nationalist who tweeted this:U decide   NYPD Blows Whistle on New Hillary Emails: Money Laundering, Sex Crimes w Children, etc MUST READ! https://t.co/O0bVJT3QDr  General Flynn (@GenFlynn) November 3, 2016His secretary of education hates schools. His pick for the head of the Environmental Protection Agency doesn t believe the environment needs protecting and (how s this for draining the swamp?) his treasure secretary pick is a former Goldman Sachs exec   you know   one of the companies that crashed the economy. It gets worse, though. According to Alternet, three of Trump s key team members have been accused of sexually or otherwise violently assaulting women.The first is the charmer, Steve Bannon. In a 1996 report, the white supremacist and former head of Breitbart was accused by his then wife of grabbing her by the neck during an argument. He was charged with domestic violence, misdemeanor witness intimidation and traumatic injury and battery. The charges were dropped, though, because his wife didn t show up for court.This one will probably surprise few. Trump s pick for labor secretary is fast food CEO Andrew Puzder. His restaurants include Hardee s and Carl s Jr., both of which are known for scantily clad women in near pornographic situations in their ads. During their divorce, Puzder s ex-wife accused him of attacking her three times, including punching her when they were riding in a car.Then, in 1986, Henning said Puzder  attacked me, choked me, threw me to the floor, hit me in the head, pushed his knee into my chest, twisted my ar m and dr agged me   on the floor, threw me against a wall, tried to stop my call to 911 and kicked me in the back. Source: NY MagazinePuzder responded to a reporter who asked him about the incident in a way that sounds a lot like his soon to be boss. He issued a thinly veiled threat against the reporter: There was no physical abuse at any point in time. If ever something was filed to gain personal benefit, this is it. If you re trying to smear me by raising the fact that my ex-wife made some charges against me, you re making a big mistake. It would not be good journalistic practice to publish this. Puzder s ex-wife has withdrawn the charges.Trump has also had numerous charges of sexual assault levied against him, beginning with his ex-wife Ivana. All told, Trump has been accused by about a dozen women, all of which he threatened to sue. As I said before, though, Trump s supporters don t care.Featured image via Drew Angerer/Getty Images\",\n          \"GAME ON! California State Senator to Enter U.S. Senate Race Against Dianne Feinstein Senator Dianne Feinstein recently announced she would be running again She s 84-years old! Her career in politics has been a very lucrative undertaking. How could she possibly give that up? The power and the money are just too hard to pass up for retirement. The on;y problem is that sudden;y Feinstein has challengers How dare they try and dethrone the powerhouse Senator who was once the Mayor of San Francisco Game on!A potential primary challenger to Sen. Dianne Feinstein (D., Calif.) is signaling his intent to enter the race for the Senate seat she has held since 1992.California Democratic state senate president Kevin de Le n will throw his hat into the ring to challenge Feinstein in the 2018 race, according to three sources who spoke to CNN. The 84-year-old senator announced Monday she would run for reelection, causing consternation on the progressive left even as she tried to get out ahead of de Le n.In the state senate, de Le n represents Los Angeles and has helped pass measures directed at President Donald Trump, positioning himself as one of the president s fiercest critics. The California state legislature has opposed Trump s agenda by becoming a so-called sanctuary state, as well as trying to force him to release his tax returns and even passing a resolution calling for him to apologize for  racist and bigoted behavior. Feinstein, however, took criticism from the left in August for expressing the hope that Trump would change to be more cooperative with Democrats. I just hope he has the ability to learn and to change, and if he does, he can be a good president,  she said, receiving boos from the San Francisco audience. She later said she is  under no illusion that it s likely to happen and will continue to oppose his policies. De Le n will likely be one of multiple contenders for Feinstein s seat. A source said Democratic mega-donor and environmentalist Tom Steyer is  very much looking at the Senate race,  and in a letter Wednesday he also called on Democrats to impeach Trump.California has an open primary in which the top two vote-getters, regardless of party, face off in the general election. The primary will be held on June 5, 2018.FEINSTEIN RECENTLY OPENED HER MOUTH AND PROVED SHE S OUT OF TOUCH WITH MOST AMERICANS: Senator Dianne Feinstein opened her mouth and proved she s out of touch with most of us. This dinosaur who needs to retire already is demanding more gun control she claims  increasing numbers  of Americans want more gun control citing zero proof. Go home Dianne, you re drunk on power SHE COULDN T NAME ONE LAW THAT COULD HAVE PREVENTED VEGAS!!! Sen. Dianne Feinstein (D., Calif.) couldn t name any laws in an interview airing Sunday that might have prevented last week s massacre in Las Vegas.NBC host Chuck Todd asked Feinstein what laws could have prevented the massacre if she had her way with writing all laws. Let me ask you this: give me the slate of laws that if you could wave your wand and have enacted that could have prevented Vegas?  Todd said. Well, I don t know. I would have to take a good look at that and really study it,  Feinstein said.  I m not sure there is any set of laws that could have prevented it. \",\n          \" Alec Baldwin Just Tore Trump Apart Limb By Stupid Limb After Hellish Weekend Of Tyranny (TWEETS) After this past week and few days that Trump has been our President*, we as Americans have no choice but to be fully aware of the horrors that are in store for us. Already, he has signed executive orders authorizing a partial Muslim ban that led to nationwide protests before it was ultimately shut down (temporarily) by a federal judge, removing funding from any international health organizations that so much as mention abortion, two major pipelines that will destroy our environment, his stupid fucking wall, and even concentration camps for the millions of undocumented immigrants he intends to round up.Already, the first President in history that was effectively installed by a hostile foreign dictator through an aggressive propaganda and fake news campaign as well as a series of hacks directly authorized and overseen by Russian President Vladimir Putin, is not only proving the naysayers correct, but showing the world that they have underestimated the level of horribleness he can attain. As always, Alec Baldwin rushed to the rescue Saturday night with exactly the words we need to hear:1- This country had a calling card.We all knew what it was.It wasn't Wall Street or Hollywood or the right to bear arms that brought  ABFoundation (@ABFalecbaldwin) January 29, 20172- that brought countless people, America's future, to this country. It was freedom.Freedom was our calling card.Trump wants to kill that  ABFoundation (@ABFalecbaldwin) January 29, 2017 This country had a calling card. We all knew what it was. It wasn t Wall Street or Hollywood or the right to bear arms that brought America s future, to this country. It was freedom,  Baldwin wrote.  Freedom was our calling card. Trump wants to kill that. Baldwin came to the conclusion reached by many, including a growing number of those who voted for him:  Trump s gota go. 3- Trump's gotta go.  ABFoundation (@ABFalecbaldwin) January 29, 2017 All the indignation is fine. But we gotta get him out! We must demand a competency test!  Baldwin later added.  He is ill! Mentally ill! All the indignation is fine.But we gotta get him out!We must demand a competency test!He is ill!Mentally ill!  ABFoundation (@ABFalecbaldwin) January 29, 2017He s exactly right. Unfortunately most options are going to prove to be fruitless. Impeachment would require the rather enthusiastic participation of a Republican-controlled Congress. The 25th Amendment allows the Vice President and cabinet to declare him unfit for pretty much any reason, but that requires the people Trump appointed to turn on him and things are actually going pretty well for them right now as The Donald checks off the Neo-Nazi wish list items one by one. It would also require Republicans in general to be halfway decent people who care about the good of their country.Right now, things seem hopeless but something amazing is happening. Trump is bringing Americans together, causing even those who once were silent in the face of right-wing oppression to rise up and declare that they are not willing to take it anymore. Americans as a whole are facing this adversity head-on and, most importantly, together.Right now, our future is uncertain, but our number one duty to our country is to oppose Trump s hateful agenda at every turn. Our elected leaders   the ones with backbones, anyway   absolutely must obstruct Trump in any way possible. Our nation has never faced a test like Donald Trump, and it is imperative that we do not fail.Featured image via screengrab\"\n        ],\n        \"semantic_type\": \"\",\n        \"description\": \"\"\n      }\n    },\n    {\n      \"column\": \"label\",\n      \"properties\": {\n        \"dtype\": \"number\",\n        \"std\": 0,\n        \"min\": 1,\n        \"max\": 1,\n        \"num_unique_values\": 1,\n        \"samples\": [\n          1\n        ],\n        \"semantic_type\": \"\",\n        \"description\": \"\"\n      }\n    }\n  ]\n}"
            }
          },
          "metadata": {},
          "execution_count": 6
        }
      ]
    },
    {
      "cell_type": "code",
      "source": [
        "true_news.head()"
      ],
      "metadata": {
        "colab": {
          "base_uri": "https://localhost:8080/",
          "height": 293
        },
        "id": "hRRfVCJy-dA7",
        "outputId": "9480e0ca-9baa-4fad-a6ff-40571d8b5359"
      },
      "execution_count": null,
      "outputs": [
        {
          "output_type": "execute_result",
          "data": {
            "text/plain": [
              "                                               title  \\\n",
              "0  As U.S. budget fight looms, Republicans flip t...   \n",
              "1  U.S. military to accept transgender recruits o...   \n",
              "2  Senior U.S. Republican senator: 'Let Mr. Muell...   \n",
              "3  FBI Russia probe helped by Australian diplomat...   \n",
              "4  Trump wants Postal Service to charge 'much mor...   \n",
              "\n",
              "                                                text       subject  \\\n",
              "0  WASHINGTON (Reuters) - The head of a conservat...  politicsNews   \n",
              "1  WASHINGTON (Reuters) - Transgender people will...  politicsNews   \n",
              "2  WASHINGTON (Reuters) - The special counsel inv...  politicsNews   \n",
              "3  WASHINGTON (Reuters) - Trump campaign adviser ...  politicsNews   \n",
              "4  SEATTLE/WASHINGTON (Reuters) - President Donal...  politicsNews   \n",
              "\n",
              "                 date                                           combined  \\\n",
              "0  December 31, 2017   As U.S. budget fight looms, Republicans flip t...   \n",
              "1  December 29, 2017   U.S. military to accept transgender recruits o...   \n",
              "2  December 31, 2017   Senior U.S. Republican senator: 'Let Mr. Muell...   \n",
              "3  December 30, 2017   FBI Russia probe helped by Australian diplomat...   \n",
              "4  December 29, 2017   Trump wants Postal Service to charge 'much mor...   \n",
              "\n",
              "   label  \n",
              "0      0  \n",
              "1      0  \n",
              "2      0  \n",
              "3      0  \n",
              "4      0  "
            ],
            "text/html": [
              "\n",
              "  <div id=\"df-5745fcdb-839f-499c-bcc3-c8188a74eb9c\" class=\"colab-df-container\">\n",
              "    <div>\n",
              "<style scoped>\n",
              "    .dataframe tbody tr th:only-of-type {\n",
              "        vertical-align: middle;\n",
              "    }\n",
              "\n",
              "    .dataframe tbody tr th {\n",
              "        vertical-align: top;\n",
              "    }\n",
              "\n",
              "    .dataframe thead th {\n",
              "        text-align: right;\n",
              "    }\n",
              "</style>\n",
              "<table border=\"1\" class=\"dataframe\">\n",
              "  <thead>\n",
              "    <tr style=\"text-align: right;\">\n",
              "      <th></th>\n",
              "      <th>title</th>\n",
              "      <th>text</th>\n",
              "      <th>subject</th>\n",
              "      <th>date</th>\n",
              "      <th>combined</th>\n",
              "      <th>label</th>\n",
              "    </tr>\n",
              "  </thead>\n",
              "  <tbody>\n",
              "    <tr>\n",
              "      <th>0</th>\n",
              "      <td>As U.S. budget fight looms, Republicans flip t...</td>\n",
              "      <td>WASHINGTON (Reuters) - The head of a conservat...</td>\n",
              "      <td>politicsNews</td>\n",
              "      <td>December 31, 2017</td>\n",
              "      <td>As U.S. budget fight looms, Republicans flip t...</td>\n",
              "      <td>0</td>\n",
              "    </tr>\n",
              "    <tr>\n",
              "      <th>1</th>\n",
              "      <td>U.S. military to accept transgender recruits o...</td>\n",
              "      <td>WASHINGTON (Reuters) - Transgender people will...</td>\n",
              "      <td>politicsNews</td>\n",
              "      <td>December 29, 2017</td>\n",
              "      <td>U.S. military to accept transgender recruits o...</td>\n",
              "      <td>0</td>\n",
              "    </tr>\n",
              "    <tr>\n",
              "      <th>2</th>\n",
              "      <td>Senior U.S. Republican senator: 'Let Mr. Muell...</td>\n",
              "      <td>WASHINGTON (Reuters) - The special counsel inv...</td>\n",
              "      <td>politicsNews</td>\n",
              "      <td>December 31, 2017</td>\n",
              "      <td>Senior U.S. Republican senator: 'Let Mr. Muell...</td>\n",
              "      <td>0</td>\n",
              "    </tr>\n",
              "    <tr>\n",
              "      <th>3</th>\n",
              "      <td>FBI Russia probe helped by Australian diplomat...</td>\n",
              "      <td>WASHINGTON (Reuters) - Trump campaign adviser ...</td>\n",
              "      <td>politicsNews</td>\n",
              "      <td>December 30, 2017</td>\n",
              "      <td>FBI Russia probe helped by Australian diplomat...</td>\n",
              "      <td>0</td>\n",
              "    </tr>\n",
              "    <tr>\n",
              "      <th>4</th>\n",
              "      <td>Trump wants Postal Service to charge 'much mor...</td>\n",
              "      <td>SEATTLE/WASHINGTON (Reuters) - President Donal...</td>\n",
              "      <td>politicsNews</td>\n",
              "      <td>December 29, 2017</td>\n",
              "      <td>Trump wants Postal Service to charge 'much mor...</td>\n",
              "      <td>0</td>\n",
              "    </tr>\n",
              "  </tbody>\n",
              "</table>\n",
              "</div>\n",
              "    <div class=\"colab-df-buttons\">\n",
              "\n",
              "  <div class=\"colab-df-container\">\n",
              "    <button class=\"colab-df-convert\" onclick=\"convertToInteractive('df-5745fcdb-839f-499c-bcc3-c8188a74eb9c')\"\n",
              "            title=\"Convert this dataframe to an interactive table.\"\n",
              "            style=\"display:none;\">\n",
              "\n",
              "  <svg xmlns=\"http://www.w3.org/2000/svg\" height=\"24px\" viewBox=\"0 -960 960 960\">\n",
              "    <path d=\"M120-120v-720h720v720H120Zm60-500h600v-160H180v160Zm220 220h160v-160H400v160Zm0 220h160v-160H400v160ZM180-400h160v-160H180v160Zm440 0h160v-160H620v160ZM180-180h160v-160H180v160Zm440 0h160v-160H620v160Z\"/>\n",
              "  </svg>\n",
              "    </button>\n",
              "\n",
              "  <style>\n",
              "    .colab-df-container {\n",
              "      display:flex;\n",
              "      gap: 12px;\n",
              "    }\n",
              "\n",
              "    .colab-df-convert {\n",
              "      background-color: #E8F0FE;\n",
              "      border: none;\n",
              "      border-radius: 50%;\n",
              "      cursor: pointer;\n",
              "      display: none;\n",
              "      fill: #1967D2;\n",
              "      height: 32px;\n",
              "      padding: 0 0 0 0;\n",
              "      width: 32px;\n",
              "    }\n",
              "\n",
              "    .colab-df-convert:hover {\n",
              "      background-color: #E2EBFA;\n",
              "      box-shadow: 0px 1px 2px rgba(60, 64, 67, 0.3), 0px 1px 3px 1px rgba(60, 64, 67, 0.15);\n",
              "      fill: #174EA6;\n",
              "    }\n",
              "\n",
              "    .colab-df-buttons div {\n",
              "      margin-bottom: 4px;\n",
              "    }\n",
              "\n",
              "    [theme=dark] .colab-df-convert {\n",
              "      background-color: #3B4455;\n",
              "      fill: #D2E3FC;\n",
              "    }\n",
              "\n",
              "    [theme=dark] .colab-df-convert:hover {\n",
              "      background-color: #434B5C;\n",
              "      box-shadow: 0px 1px 3px 1px rgba(0, 0, 0, 0.15);\n",
              "      filter: drop-shadow(0px 1px 2px rgba(0, 0, 0, 0.3));\n",
              "      fill: #FFFFFF;\n",
              "    }\n",
              "  </style>\n",
              "\n",
              "    <script>\n",
              "      const buttonEl =\n",
              "        document.querySelector('#df-5745fcdb-839f-499c-bcc3-c8188a74eb9c button.colab-df-convert');\n",
              "      buttonEl.style.display =\n",
              "        google.colab.kernel.accessAllowed ? 'block' : 'none';\n",
              "\n",
              "      async function convertToInteractive(key) {\n",
              "        const element = document.querySelector('#df-5745fcdb-839f-499c-bcc3-c8188a74eb9c');\n",
              "        const dataTable =\n",
              "          await google.colab.kernel.invokeFunction('convertToInteractive',\n",
              "                                                    [key], {});\n",
              "        if (!dataTable) return;\n",
              "\n",
              "        const docLinkHtml = 'Like what you see? Visit the ' +\n",
              "          '<a target=\"_blank\" href=https://colab.research.google.com/notebooks/data_table.ipynb>data table notebook</a>'\n",
              "          + ' to learn more about interactive tables.';\n",
              "        element.innerHTML = '';\n",
              "        dataTable['output_type'] = 'display_data';\n",
              "        await google.colab.output.renderOutput(dataTable, element);\n",
              "        const docLink = document.createElement('div');\n",
              "        docLink.innerHTML = docLinkHtml;\n",
              "        element.appendChild(docLink);\n",
              "      }\n",
              "    </script>\n",
              "  </div>\n",
              "\n",
              "\n",
              "<div id=\"df-fb04acac-a638-46f8-8ee8-799ddff5948d\">\n",
              "  <button class=\"colab-df-quickchart\" onclick=\"quickchart('df-fb04acac-a638-46f8-8ee8-799ddff5948d')\"\n",
              "            title=\"Suggest charts\"\n",
              "            style=\"display:none;\">\n",
              "\n",
              "<svg xmlns=\"http://www.w3.org/2000/svg\" height=\"24px\"viewBox=\"0 0 24 24\"\n",
              "     width=\"24px\">\n",
              "    <g>\n",
              "        <path d=\"M19 3H5c-1.1 0-2 .9-2 2v14c0 1.1.9 2 2 2h14c1.1 0 2-.9 2-2V5c0-1.1-.9-2-2-2zM9 17H7v-7h2v7zm4 0h-2V7h2v10zm4 0h-2v-4h2v4z\"/>\n",
              "    </g>\n",
              "</svg>\n",
              "  </button>\n",
              "\n",
              "<style>\n",
              "  .colab-df-quickchart {\n",
              "      --bg-color: #E8F0FE;\n",
              "      --fill-color: #1967D2;\n",
              "      --hover-bg-color: #E2EBFA;\n",
              "      --hover-fill-color: #174EA6;\n",
              "      --disabled-fill-color: #AAA;\n",
              "      --disabled-bg-color: #DDD;\n",
              "  }\n",
              "\n",
              "  [theme=dark] .colab-df-quickchart {\n",
              "      --bg-color: #3B4455;\n",
              "      --fill-color: #D2E3FC;\n",
              "      --hover-bg-color: #434B5C;\n",
              "      --hover-fill-color: #FFFFFF;\n",
              "      --disabled-bg-color: #3B4455;\n",
              "      --disabled-fill-color: #666;\n",
              "  }\n",
              "\n",
              "  .colab-df-quickchart {\n",
              "    background-color: var(--bg-color);\n",
              "    border: none;\n",
              "    border-radius: 50%;\n",
              "    cursor: pointer;\n",
              "    display: none;\n",
              "    fill: var(--fill-color);\n",
              "    height: 32px;\n",
              "    padding: 0;\n",
              "    width: 32px;\n",
              "  }\n",
              "\n",
              "  .colab-df-quickchart:hover {\n",
              "    background-color: var(--hover-bg-color);\n",
              "    box-shadow: 0 1px 2px rgba(60, 64, 67, 0.3), 0 1px 3px 1px rgba(60, 64, 67, 0.15);\n",
              "    fill: var(--button-hover-fill-color);\n",
              "  }\n",
              "\n",
              "  .colab-df-quickchart-complete:disabled,\n",
              "  .colab-df-quickchart-complete:disabled:hover {\n",
              "    background-color: var(--disabled-bg-color);\n",
              "    fill: var(--disabled-fill-color);\n",
              "    box-shadow: none;\n",
              "  }\n",
              "\n",
              "  .colab-df-spinner {\n",
              "    border: 2px solid var(--fill-color);\n",
              "    border-color: transparent;\n",
              "    border-bottom-color: var(--fill-color);\n",
              "    animation:\n",
              "      spin 1s steps(1) infinite;\n",
              "  }\n",
              "\n",
              "  @keyframes spin {\n",
              "    0% {\n",
              "      border-color: transparent;\n",
              "      border-bottom-color: var(--fill-color);\n",
              "      border-left-color: var(--fill-color);\n",
              "    }\n",
              "    20% {\n",
              "      border-color: transparent;\n",
              "      border-left-color: var(--fill-color);\n",
              "      border-top-color: var(--fill-color);\n",
              "    }\n",
              "    30% {\n",
              "      border-color: transparent;\n",
              "      border-left-color: var(--fill-color);\n",
              "      border-top-color: var(--fill-color);\n",
              "      border-right-color: var(--fill-color);\n",
              "    }\n",
              "    40% {\n",
              "      border-color: transparent;\n",
              "      border-right-color: var(--fill-color);\n",
              "      border-top-color: var(--fill-color);\n",
              "    }\n",
              "    60% {\n",
              "      border-color: transparent;\n",
              "      border-right-color: var(--fill-color);\n",
              "    }\n",
              "    80% {\n",
              "      border-color: transparent;\n",
              "      border-right-color: var(--fill-color);\n",
              "      border-bottom-color: var(--fill-color);\n",
              "    }\n",
              "    90% {\n",
              "      border-color: transparent;\n",
              "      border-bottom-color: var(--fill-color);\n",
              "    }\n",
              "  }\n",
              "</style>\n",
              "\n",
              "  <script>\n",
              "    async function quickchart(key) {\n",
              "      const quickchartButtonEl =\n",
              "        document.querySelector('#' + key + ' button');\n",
              "      quickchartButtonEl.disabled = true;  // To prevent multiple clicks.\n",
              "      quickchartButtonEl.classList.add('colab-df-spinner');\n",
              "      try {\n",
              "        const charts = await google.colab.kernel.invokeFunction(\n",
              "            'suggestCharts', [key], {});\n",
              "      } catch (error) {\n",
              "        console.error('Error during call to suggestCharts:', error);\n",
              "      }\n",
              "      quickchartButtonEl.classList.remove('colab-df-spinner');\n",
              "      quickchartButtonEl.classList.add('colab-df-quickchart-complete');\n",
              "    }\n",
              "    (() => {\n",
              "      let quickchartButtonEl =\n",
              "        document.querySelector('#df-fb04acac-a638-46f8-8ee8-799ddff5948d button');\n",
              "      quickchartButtonEl.style.display =\n",
              "        google.colab.kernel.accessAllowed ? 'block' : 'none';\n",
              "    })();\n",
              "  </script>\n",
              "</div>\n",
              "\n",
              "    </div>\n",
              "  </div>\n"
            ],
            "application/vnd.google.colaboratory.intrinsic+json": {
              "type": "dataframe",
              "variable_name": "true_news",
              "summary": "{\n  \"name\": \"true_news\",\n  \"rows\": 21417,\n  \"fields\": [\n    {\n      \"column\": \"title\",\n      \"properties\": {\n        \"dtype\": \"string\",\n        \"num_unique_values\": 20826,\n        \"samples\": [\n          \"German, Turkish foreign ministers meet after detainee released\",\n          \"Kremlin calls North Korea's latest missile launch another 'provocation'\",\n          \"Transgender soldiers, veterans shaken by Trump's ban on their service\"\n        ],\n        \"semantic_type\": \"\",\n        \"description\": \"\"\n      }\n    },\n    {\n      \"column\": \"text\",\n      \"properties\": {\n        \"dtype\": \"string\",\n        \"num_unique_values\": 21192,\n        \"samples\": [\n          \"WASHINGTON (Reuters) - A majority of the U.S. Senate on Tuesday backed a new round of disaster aid to help Puerto Rico and several states recover from damage from hurricanes and wildfires. The legislation would provide $36.5 billion in emergency relief as Puerto Rico in particular struggles to regain electricity and other basic services following destructive hurricanes. The House of Representatives approved the bill earlier this month. The Trump administration already has indicated it will seek another round of emergency relief from Congress. \",\n          \"BUDAPEST (Reuters) - About a thousand Hungarians protested on Friday against a crackdown on the main opposition party Jobbik which has been  threatened by a record political campaign fine that the party leader describes as a  death sentence  for democracy. Despite the gloomy rhetoric and Jobbik saying it was fighting for survival, support for the demonstration was well down on other similar rallies over the past year. Hungarians will vote for a new parliament in April and Prime Minister Viktor Orban s conservative, anti-migrant Fidesz party is far ahead in the polls, with Jobbik its nearest rival. Jobbik, once on the far right, has turned toward the center in a bid to attract more support and is now campaigning nationwide against Orban, depicting him as the leader of a criminal gang. Orban, rejecting the charges, says his financial standing is  an open book . Last week the state audit office (ASZ) ruled Jobbik had bought political posters far below market prices, breaching rules on political funding, then it slapped a 663 million forint ($2.5 million) penalty on the party. The protesters, waving Jobbik flags and posters deriding the ruling elite, gathered outside the headquarters of Orban s Fidesz party.  What we see unfolding is not an audit office investigation. It is not an official penalty. This is a death sentence with Jobbik s name on it. But in reality, it is a death sentence for Hungarian democracy,  Jobbiik leader Gabor Vona told the crowd. A government spokesman could not comment immediately on his remarks. ASZ chairman Laszlo Domokos is a former Fidesz lawmaker, whom Jobbik and other critics accuse of making decisions in favor of Orban. The audit office denies that. On Friday, ASZ again called on Jobbik to submit information that would challenge its findings, saying it acted fully within its rights throughout the probe. The ruling Fidesz party and the government have denied any involvement in the ASZ probe.  This case has nothing to do with the election campaign,  Orban aide Janos Lazar said on Thursday. For over a year Fidesz has targeted Jobbik, whose move to the center could upend the longstanding status quo of a dominant Fidesz with weaker opponents to its left and its right, said analyst Zoltan Novak at the Centre for Fair Political Analysis. Gyorgy Illes, a 67-year-old pensioner attending the rally, said he used to be a Socialist supporter but got disillusioned as the party struggled to overcome its internal divisions.  This ASZ probe is a clear sign that Orban is way past any remedy. It is a ruthless attack on everything we hold dear. Democracy, the rule of law, equality, you name it,  he said. \",\n          \"BEIJING/TAIPEI (Reuters) - China accused the United States on Thursday of interfering in its internal affairs and said it had lodged a complaint after U.S. President Donald Trump signed into law an act laying the groundwork for possible U.S. navy visits to self-ruled Taiwan. Tensions have risen in recent days after a senior Chinese diplomat threatened China would invade Taiwan if any U.S. warships made port visits to the island which China claims as its own territory. On Monday, Chinese jets carried out  island encirclement patrols  around Taiwan, with state media showing pictures of bombers with cruise missiles slung under their wings as they carried out the exercise. On Tuesday, Trump signed into law the National Defense Authorization Act for the 2018 fiscal year, which authorizes the possibility of mutual visits by navy vessels between Taiwan and the United States. Such visits would be the first since the United States ended formal diplomatic relations with Taiwan in 1979 and established ties with Beijing. Chinese Foreign Ministry spokesman Lu Kang said while the Taiwan sections of the law were not legally binding, they seriously violate the  One China  policy and  constitute an interference in China s internal affairs .   China is resolutely opposed to this, and we have already lodged stern representations with the U.S. government,  Lu told a daily news briefing. China is firmly opposed to any official exchanges, military contact, or arms sales between Taiwan and the United States, he added.  Proudly democratic Taiwan has become increasingly concerned with the ramped up Chinese military presence, that has included several rounds of Chinese air force drills around the island in recent months.  Taiwan is confident of its defenses and responded quickly to the Chinese air force drills this week, its government said, denouncing the rise in China s military deployments as irresponsible. Taiwan presidential spokesman Alex Huang, speaking to Taiwan media in comments reported late on Wednesday, said the defense ministry had kept a close watch on the patrols and responded immediately and properly. Taiwan  can ensure there are no concerns at all about national security, and people can rest assured , Huang said. Both sides of the narrow Taiwan Strait, which separates Taiwan from its giant neighbor, have a responsibility to protect peace and stability, he added.  Such a raised military posture that may impact upon and harm regional peace and stability and cross-strait ties does not give a feeling of responsibility, and the international community does not look favorably upon this,  Huang was quoted as saying. Relations have soured considerably since Tsai Ing-wen, who leads Taiwan s independence-leaning Democratic Progressive Party, won presidential elections last year. China suspects Tsai wants to declare the island s formal independence, a red line for Beijing. Tsai says she wants to maintain peace with China but will defend Taiwan s security. Taiwan is well equipped with mostly U.S. weapons but has been pressing for more advanced equipment to deal with what it sees as a rising threat from China. The United States is bound by law to provide the island with the means to defend itself. China has never renounced the use of force to bring Taiwan under its control. \"\n        ],\n        \"semantic_type\": \"\",\n        \"description\": \"\"\n      }\n    },\n    {\n      \"column\": \"subject\",\n      \"properties\": {\n        \"dtype\": \"category\",\n        \"num_unique_values\": 2,\n        \"samples\": [\n          \"worldnews\",\n          \"politicsNews\"\n        ],\n        \"semantic_type\": \"\",\n        \"description\": \"\"\n      }\n    },\n    {\n      \"column\": \"date\",\n      \"properties\": {\n        \"dtype\": \"object\",\n        \"num_unique_values\": 716,\n        \"samples\": [\n          \"September 2, 2017 \",\n          \"February 2, 2017 \"\n        ],\n        \"semantic_type\": \"\",\n        \"description\": \"\"\n      }\n    },\n    {\n      \"column\": \"combined\",\n      \"properties\": {\n        \"dtype\": \"string\",\n        \"num_unique_values\": 21197,\n        \"samples\": [\n          \"Illinois governor enlists counterparts to attack Democrats in election ad CHICAGO (Reuters) - Illinois\\u2019 Republican governor has launched an unusual attack ad in his re-election campaign that features three neighboring governors crediting their states\\u2019 job gains to Illinois taxes crafted by a state House Democratic leader. Illinois Republican Governor Bruce Rauner, who kicked off his 2018 re-election campaign this week, saw his first term marred by a political impasse that left Illinois without a budget for two years before lawmakers overrode his veto this summer to raise taxes.     Governors in the new ad include Missouri\\u2019s Eric Greitens, Wisconsin\\u2019s Scott Walker and Indiana\\u2019s Eric Holcomb - all Republicans like Rauner - thanking Rauner\\u2019s political foil, Illinois House Speaker Michael Madigan, for blocking reforms, raising taxes and sending jobs to their states. \\u201cHoosiers love you, Mike Madigan,\\u201d Holcomb said in the ad. Among the Democrats whom Rauner, a wealthy businessman, could face after a March primary are J.B. Pritzker, an heir to the Hyatt Hotels Corp fortune, and Chris Kennedy, son of the late U.S. Senator Robert Kennedy.        The governor\\u2019s race in the fifth-largest state is expected to rank among the most expensive in the country. Experts who follow elections said the ad was unusual. \\u201cThis is creative since it uses GOP governors from surrounding states to shift the blame for Illinois\\u2019 woes from Rauner to a Democratic leader,\\u201d University of Virginia political science professor Larry Sabato said.  \\u201cVoters usually hold their governor responsible for the state of the state,\\u201d he added.  While it is not unusual for governors to make appearances for other campaigns, they tend to take a more positive approach, highlighting an incumbent\\u2019s achievements, said Dick Simpson, a political science professor at the University of Illinois at Chicago.     While the ad may resonate with rural, conservative voters, it also comes as Illinois and other states seek to attract Amazon.com\\u2019s $5 billion second headquarters. Simpson said highlighting how Illinois policies hurt the state is \\u201cprobably not helpful.\\u201d     Madigan dismissed the ad in a statement, calling it a \\u201crace to the bottom being led by his role models from states where middle-class wages are a fraction of what they are in Illinois.\\u201d     Rauner has feuded with Democrats, who control the state legislature, over his insistence a state budget be tied to policy demands that would weaken unions, impose legislative term limits and freeze property taxes.     He also has angered conservatives by signing a bill to expand state-funded coverage of abortions. Political scientists said he faces a tough re-election bid in a state often carried by the Democratic candidate in presidential elections. Spending on the race could top $150 million, a rarity, said Sarah Brune, executive director of the Illinois Campaign for Political Reform. \",\n          \"Trump commerce nominee Ross to tell senators: 'I am not anti-trade' WASHINGTON (Reuters) - President-elect Donald Trump\\u2019s nominee for U.S. commerce secretary, Wilbur Ross, will tell senators on Wednesday he is not \\u201canti-trade\\u201d but that the United States should not put up with malicious practices or unfair subsidies from foreign trading partners. \\u201cI am not anti-trade. I am pro-trade. But I am pro-sensible trade, not trade that is detrimental to the American worker and to the domestic manufacturing base,\\u201d Ross said in a prepared testimony to the Senate Commerce, Science and Transportation Committee that was seen by Reuters. The 79-year-old billionaire investor said in his prepared opening statement that his wide-ranging investments had given him first-hand experience of the unfair trading practices of other countries, including non-tariff barriers to imports and government subsidies for exports to the United States. \\u201cI think I\\u2019ve probably had more direct experience than any prior Cabinet nominee has had with unfair trade in the steel business, in the textile business, in the auto parts business and other sectors,\\u201d Ross said. \\u201cI am very well aware of the issues many companies face, and I\\u2019m sensitive to both the issues abroad and the issues here at home.\\u201d Trump has voiced a hard line on trade with China and Mexico, saying major changes are needed to reduce their chronic trade surpluses with the United States. He has threatened to declare China a currency manipulator and levy tariffs on Chinese and Mexican goods, but little is known about his specific plans. Ross, who has been designated the leader of Trump\\u2019s trade strategy, will tell the committee that countries should have access to the U.S. market if they \\u201cagree to play by our standards of fair trade.\\u201d \\u201cWe should not put up with malicious trading activities, state-owned enterprises or subsidized production,\\u201d he said, without naming any specific countries. Like Trump, the outgoing Obama administration has been critical of China\\u2019s subsidies for state-owned enterprises and its failure to reduce its industrial overcapacity, filing a complaint with the World Trade Organization over Chinese aluminum sector subsidies  last week. Ross will also say he was struck in recent meetings with technology executives by how similar their trade problems were to those faced by the more traditional industries in which he has worked. Ross disclosed earlier on Tuesday that he would sell investments valued at up to about $300 million, including his stake in his private equity firm, in order to avoid conflicts of interest as commerce secretary, a position with responsibilities ranging from trade enforcement and economic data production to  telecommunications auctions and weather forecasting.  Reuters also reported that companies run by Ross had shifted some 2,700 U.S. jobs to other countries since 2004, according to Labor Department data.             \"\n        ],\n        \"semantic_type\": \"\",\n        \"description\": \"\"\n      }\n    },\n    {\n      \"column\": \"label\",\n      \"properties\": {\n        \"dtype\": \"number\",\n        \"std\": 0,\n        \"min\": 0,\n        \"max\": 0,\n        \"num_unique_values\": 1,\n        \"samples\": [\n          0\n        ],\n        \"semantic_type\": \"\",\n        \"description\": \"\"\n      }\n    }\n  ]\n}"
            }
          },
          "metadata": {},
          "execution_count": 7
        }
      ]
    },
    {
      "cell_type": "markdown",
      "source": [
        "### Seeing the time span of the dataset"
      ],
      "metadata": {
        "id": "ocPswR3JBrkp"
      }
    },
    {
      "cell_type": "code",
      "source": [
        "# Convert 'date' columns to datetime objects, specifying the correct format\n",
        "fake_news['date'] = pd.to_datetime(fake_news['date'], format='%B %d, %Y', errors='coerce')\n",
        "true_news['date'] = pd.to_datetime(true_news['date'], format='%B %d, %Y', errors='coerce')\n",
        "\n",
        "\n",
        "# Get the earliest and latest dates from both DataFrames\n",
        "earliest_date = min(fake_news['date'].min(), true_news['date'].min())\n",
        "latest_date = max(fake_news['date'].max(), true_news['date'].max())\n",
        "\n",
        "# Print the results\n",
        "print(f\"Earliest Date: {earliest_date}\")\n",
        "print(f\"Latest Date: {latest_date}\")"
      ],
      "metadata": {
        "colab": {
          "base_uri": "https://localhost:8080/"
        },
        "id": "O6He455h-a0Z",
        "outputId": "db513cef-76a8-4d78-c4b4-9698c587e2af"
      },
      "execution_count": null,
      "outputs": [
        {
          "output_type": "stream",
          "name": "stdout",
          "text": [
            "Earliest Date: 2015-05-01 00:00:00\n",
            "Latest Date: 2017-12-31 00:00:00\n"
          ]
        }
      ]
    },
    {
      "cell_type": "markdown",
      "metadata": {
        "id": "MBAXxstFpdtN"
      },
      "source": [
        "## 2. Data Prepocessing"
      ]
    },
    {
      "cell_type": "markdown",
      "metadata": {
        "id": "_1l-qrJepkwR"
      },
      "source": [
        "### 2.1. Checking for missing values"
      ]
    },
    {
      "cell_type": "code",
      "execution_count": null,
      "metadata": {
        "colab": {
          "base_uri": "https://localhost:8080/"
        },
        "id": "K4JZfLy2mYqb",
        "outputId": "26fab33d-7f1f-473d-9991-89309c85bae0"
      },
      "outputs": [
        {
          "output_type": "stream",
          "name": "stdout",
          "text": [
            "title           0\n",
            "text            0\n",
            "subject         0\n",
            "date        11613\n",
            "combined        0\n",
            "label           0\n",
            "dtype: int64\n",
            "title           0\n",
            "text            0\n",
            "subject         0\n",
            "date        21417\n",
            "combined        0\n",
            "label           0\n",
            "dtype: int64\n"
          ]
        }
      ],
      "source": [
        "print(fake_news.isnull().sum())\n",
        "print(true_news.isnull().sum())"
      ]
    },
    {
      "cell_type": "markdown",
      "metadata": {
        "id": "j66q1zjRpr3A"
      },
      "source": [
        "### 2.2. Checking for duplicate values"
      ]
    },
    {
      "cell_type": "code",
      "execution_count": null,
      "metadata": {
        "colab": {
          "base_uri": "https://localhost:8080/"
        },
        "id": "odW7YkN1H7GR",
        "outputId": "5f71dbf1-40a1-4052-a595-38b451775d4b"
      },
      "outputs": [
        {
          "output_type": "execute_result",
          "data": {
            "text/plain": [
              "(23481, 6)"
            ]
          },
          "metadata": {},
          "execution_count": 10
        }
      ],
      "source": [
        "fake_news.shape"
      ]
    },
    {
      "cell_type": "code",
      "execution_count": null,
      "metadata": {
        "colab": {
          "base_uri": "https://localhost:8080/"
        },
        "id": "sWl2Og2GH9zr",
        "outputId": "be2461d2-eee6-42b5-fac6-5a68183ec4a0"
      },
      "outputs": [
        {
          "output_type": "execute_result",
          "data": {
            "text/plain": [
              "(21417, 6)"
            ]
          },
          "metadata": {},
          "execution_count": 11
        }
      ],
      "source": [
        "true_news.shape"
      ]
    },
    {
      "cell_type": "code",
      "execution_count": null,
      "metadata": {
        "id": "FRRidES-01kc"
      },
      "outputs": [],
      "source": [
        "# Dropping duplicates from the 2 datasets.\n",
        "fake_news = fake_news.drop_duplicates(subset=['text'], keep='first')\n",
        "true_news = true_news.drop_duplicates(subset=['text'], keep='first')"
      ]
    },
    {
      "cell_type": "code",
      "execution_count": null,
      "metadata": {
        "colab": {
          "base_uri": "https://localhost:8080/"
        },
        "id": "vaf4bUQcYCeT",
        "outputId": "7b324e4a-3bd3-41b6-ae49-9aa1f609bb0c"
      },
      "outputs": [
        {
          "output_type": "execute_result",
          "data": {
            "text/plain": [
              "(17455, 6)"
            ]
          },
          "metadata": {},
          "execution_count": 13
        }
      ],
      "source": [
        "fake_news.shape"
      ]
    },
    {
      "cell_type": "code",
      "execution_count": null,
      "metadata": {
        "colab": {
          "base_uri": "https://localhost:8080/"
        },
        "id": "FCIhAwF6GX0d",
        "outputId": "2cf9b7ae-9003-478e-f9fc-552298466b84"
      },
      "outputs": [
        {
          "output_type": "execute_result",
          "data": {
            "text/plain": [
              "(21192, 6)"
            ]
          },
          "metadata": {},
          "execution_count": 14
        }
      ],
      "source": [
        "true_news.shape"
      ]
    },
    {
      "cell_type": "markdown",
      "metadata": {
        "id": "WaokB6rpp8vW"
      },
      "source": [
        "### 2.3. Cleaning text and title columns (remove URLS, mentions,....)\n"
      ]
    },
    {
      "cell_type": "code",
      "execution_count": null,
      "metadata": {
        "colab": {
          "base_uri": "https://localhost:8080/"
        },
        "id": "v45yd-yte1bv",
        "outputId": "f24e2903-90ec-4284-a3b1-262c587681b4"
      },
      "outputs": [
        {
          "output_type": "stream",
          "name": "stdout",
          "text": [
            " Donald Trump Sends Out Embarrassing New Year’s Eve Message; This is Disturbing Donald Trump just couldn t wish all Americans a Happy New Year and leave it at that. Instead, he had to give a shout out to his enemies, haters and  the very dishonest fake news media.  The former reality show star had just one job to do and he couldn t do it. As our Country rapidly grows stronger and smarter, I want to wish all of my friends, supporters, enemies, haters, and even the very dishonest Fake News Media, a Happy and Healthy New Year,  President Angry Pants tweeted.  2018 will be a great year for America! As our Country rapidly grows stronger and smarter, I want to wish all of my friends, supporters, enemies, haters, and even the very dishonest Fake News Media, a Happy and Healthy New Year. 2018 will be a great year for America!  Donald J. Trump (@realDonaldTrump) December 31, 2017Trump s tweet went down about as welll as you d expect.What kind of president sends a New Year s greeting like this despicable, petty, infantile gibberish? Only Trump! His lack of decency won t even allow him to rise above the gutter long enough to wish the American citizens a happy new year!  Bishop Talbert Swan (@TalbertSwan) December 31, 2017no one likes you  Calvin (@calvinstowell) December 31, 2017Your impeachment would make 2018 a great year for America, but I ll also accept regaining control of Congress.  Miranda Yaver (@mirandayaver) December 31, 2017Do you hear yourself talk? When you have to include that many people that hate you you have to wonder? Why do the they all hate me?  Alan Sandoval (@AlanSandoval13) December 31, 2017Who uses the word Haters in a New Years wish??  Marlene (@marlene399) December 31, 2017You can t just say happy new year?  Koren pollitt (@Korencarpenter) December 31, 2017Here s Trump s New Year s Eve tweet from 2016.Happy New Year to all, including to my many enemies and those who have fought me and lost so badly they just don t know what to do. Love!  Donald J. Trump (@realDonaldTrump) December 31, 2016This is nothing new for Trump. He s been doing this for years.Trump has directed messages to his  enemies  and  haters  for New Year s, Easter, Thanksgiving, and the anniversary of 9/11. pic.twitter.com/4FPAe2KypA  Daniel Dale (@ddale8) December 31, 2017Trump s holiday tweets are clearly not presidential.How long did he work at Hallmark before becoming President?  Steven Goodine (@SGoodine) December 31, 2017He s always been like this . . . the only difference is that in the last few years, his filter has been breaking down.  Roy Schulze (@thbthttt) December 31, 2017Who, apart from a teenager uses the term haters?  Wendy (@WendyWhistles) December 31, 2017he s a fucking 5 year old  Who Knows (@rainyday80) December 31, 2017So, to all the people who voted for this a hole thinking he would change once he got into power, you were wrong! 70-year-old men don t change and now he s a year older.Photo by Andrew Burton/Getty Images.\n"
          ]
        }
      ],
      "source": [
        "# The first row of text BEFORE cleaning\n",
        "print(fake_news['combined'][0])"
      ]
    },
    {
      "cell_type": "code",
      "execution_count": null,
      "metadata": {
        "id": "NCxnwBHBqht1"
      },
      "outputs": [],
      "source": [
        "# Create Function To Clean The Text.\n",
        "import re\n",
        "def clean_text(text):\n",
        "    text = re.sub(r\"http\\S+\", \" \", text)  # Remove URLs\n",
        "    text = re.sub(r\"@\\w+\", \" \", text)     # Remove mentions\n",
        "    text = re.sub(r\"#\\w+\", \" \", text)     # Remove hashtags\n",
        "    text = re.sub(r\"[^\\w\\s]\", \" \", text)  # Remove punctuation\n",
        "    text = text.lower().strip()           # Convert to lowercase and strip whitespace\n",
        "    return text"
      ]
    },
    {
      "cell_type": "code",
      "source": [
        "# Now, let's clean the fake and true news.\n",
        "fake_news['combined'] = fake_news['combined'].apply(clean_text)\n",
        "true_news['combined'] = true_news['combined'].apply(clean_text)"
      ],
      "metadata": {
        "id": "WmqNhCofnDSz"
      },
      "execution_count": null,
      "outputs": []
    },
    {
      "cell_type": "code",
      "execution_count": null,
      "metadata": {
        "id": "7BUQRx6DfLV3",
        "colab": {
          "base_uri": "https://localhost:8080/"
        },
        "outputId": "48a57c3d-9e2a-4261-cd14-2a38888fbd42"
      },
      "outputs": [
        {
          "output_type": "stream",
          "name": "stdout",
          "text": [
            "donald trump sends out embarrassing new year s eve message  this is disturbing donald trump just couldn t wish all americans a happy new year and leave it at that  instead  he had to give a shout out to his enemies  haters and  the very dishonest fake news media   the former reality show star had just one job to do and he couldn t do it  as our country rapidly grows stronger and smarter  i want to wish all of my friends  supporters  enemies  haters  and even the very dishonest fake news media  a happy and healthy new year   president angry pants tweeted   2018 will be a great year for america  as our country rapidly grows stronger and smarter  i want to wish all of my friends  supporters  enemies  haters  and even the very dishonest fake news media  a happy and healthy new year  2018 will be a great year for america   donald j  trump     december 31  2017trump s tweet went down about as welll as you d expect what kind of president sends a new year s greeting like this despicable  petty  infantile gibberish  only trump  his lack of decency won t even allow him to rise above the gutter long enough to wish the american citizens a happy new year   bishop talbert swan     december 31  2017no one likes you  calvin     december 31  2017your impeachment would make 2018 a great year for america  but i ll also accept regaining control of congress   miranda yaver     december 31  2017do you hear yourself talk  when you have to include that many people that hate you you have to wonder  why do the they all hate me   alan sandoval     december 31  2017who uses the word haters in a new years wish    marlene     december 31  2017you can t just say happy new year   koren pollitt     december 31  2017here s trump s new year s eve tweet from 2016 happy new year to all  including to my many enemies and those who have fought me and lost so badly they just don t know what to do  love   donald j  trump     december 31  2016this is nothing new for trump  he s been doing this for years trump has directed messages to his  enemies  and  haters  for new year s  easter  thanksgiving  and the anniversary of 9 11  pic twitter com 4fpae2kypa  daniel dale     december 31  2017trump s holiday tweets are clearly not presidential how long did he work at hallmark before becoming president   steven goodine     december 31  2017he s always been like this       the only difference is that in the last few years  his filter has been breaking down   roy schulze     december 31  2017who  apart from a teenager uses the term haters   wendy     december 31  2017he s a fucking 5 year old  who knows     december 31  2017so  to all the people who voted for this a hole thinking he would change once he got into power  you were wrong  70 year old men don t change and now he s a year older photo by andrew burton getty images\n"
          ]
        }
      ],
      "source": [
        "# The first row of text AFTER cleaning\n",
        "print(fake_news['combined'][0])"
      ]
    },
    {
      "cell_type": "markdown",
      "metadata": {
        "id": "HmrsBsnkkv_2"
      },
      "source": [
        "### 2.4. Removing stop words"
      ]
    },
    {
      "cell_type": "code",
      "source": [
        "# The first row of text BEFORE cleaning\n",
        "print(fake_news['combined'][0])"
      ],
      "metadata": {
        "colab": {
          "base_uri": "https://localhost:8080/"
        },
        "id": "uUcwhQNnAIHq",
        "outputId": "0ef25f5d-39aa-4426-e2a2-1229e1056381"
      },
      "execution_count": null,
      "outputs": [
        {
          "output_type": "stream",
          "name": "stdout",
          "text": [
            "donald trump sends out embarrassing new year s eve message  this is disturbing donald trump just couldn t wish all americans a happy new year and leave it at that  instead  he had to give a shout out to his enemies  haters and  the very dishonest fake news media   the former reality show star had just one job to do and he couldn t do it  as our country rapidly grows stronger and smarter  i want to wish all of my friends  supporters  enemies  haters  and even the very dishonest fake news media  a happy and healthy new year   president angry pants tweeted   2018 will be a great year for america  as our country rapidly grows stronger and smarter  i want to wish all of my friends  supporters  enemies  haters  and even the very dishonest fake news media  a happy and healthy new year  2018 will be a great year for america   donald j  trump     december 31  2017trump s tweet went down about as welll as you d expect what kind of president sends a new year s greeting like this despicable  petty  infantile gibberish  only trump  his lack of decency won t even allow him to rise above the gutter long enough to wish the american citizens a happy new year   bishop talbert swan     december 31  2017no one likes you  calvin     december 31  2017your impeachment would make 2018 a great year for america  but i ll also accept regaining control of congress   miranda yaver     december 31  2017do you hear yourself talk  when you have to include that many people that hate you you have to wonder  why do the they all hate me   alan sandoval     december 31  2017who uses the word haters in a new years wish    marlene     december 31  2017you can t just say happy new year   koren pollitt     december 31  2017here s trump s new year s eve tweet from 2016 happy new year to all  including to my many enemies and those who have fought me and lost so badly they just don t know what to do  love   donald j  trump     december 31  2016this is nothing new for trump  he s been doing this for years trump has directed messages to his  enemies  and  haters  for new year s  easter  thanksgiving  and the anniversary of 9 11  pic twitter com 4fpae2kypa  daniel dale     december 31  2017trump s holiday tweets are clearly not presidential how long did he work at hallmark before becoming president   steven goodine     december 31  2017he s always been like this       the only difference is that in the last few years  his filter has been breaking down   roy schulze     december 31  2017who  apart from a teenager uses the term haters   wendy     december 31  2017he s a fucking 5 year old  who knows     december 31  2017so  to all the people who voted for this a hole thinking he would change once he got into power  you were wrong  70 year old men don t change and now he s a year older photo by andrew burton getty images\n"
          ]
        }
      ]
    },
    {
      "cell_type": "code",
      "execution_count": null,
      "metadata": {
        "id": "nwusOfUdp7va"
      },
      "outputs": [],
      "source": [
        "# Set of stop words\n",
        "stop_words = set(stopwords.words('english'))\n",
        "\n",
        "# Function to remove stop words\n",
        "def remove_stopwords(text):\n",
        "  word_tokens = word_tokenize(text)\n",
        "  filtered_sentence = [w for w in word_tokens if not w.lower() in stop_words]\n",
        "  return ' '.join(filtered_sentence)"
      ]
    },
    {
      "cell_type": "code",
      "execution_count": null,
      "metadata": {
        "id": "dTEY72X0fv4a"
      },
      "outputs": [],
      "source": [
        "# Removing stop words from titles and texts\n",
        "fake_news['combined'] = fake_news['combined'].apply(remove_stopwords)\n",
        "true_news['combined'] = true_news['combined'].apply(remove_stopwords)"
      ]
    },
    {
      "cell_type": "code",
      "source": [
        "# The first row of text AFTER cleaning\n",
        "print(fake_news['combined'][0])"
      ],
      "metadata": {
        "colab": {
          "base_uri": "https://localhost:8080/"
        },
        "id": "l2hKsqaoAPD5",
        "outputId": "f35086cf-9de3-4015-8cb5-978627f0e64b"
      },
      "execution_count": null,
      "outputs": [
        {
          "output_type": "stream",
          "name": "stdout",
          "text": [
            "donald trump sends embarrassing new year eve message disturbing donald trump wish americans happy new year leave instead give shout enemies haters dishonest fake news media former reality show star one job country rapidly grows stronger smarter want wish friends supporters enemies haters even dishonest fake news media happy healthy new year president angry pants tweeted 2018 great year america country rapidly grows stronger smarter want wish friends supporters enemies haters even dishonest fake news media happy healthy new year 2018 great year america donald j trump december 31 2017trump tweet went welll expect kind president sends new year greeting like despicable petty infantile gibberish trump lack decency even allow rise gutter long enough wish american citizens happy new year bishop talbert swan december 31 2017no one likes calvin december 31 2017your impeachment would make 2018 great year america also accept regaining control congress miranda yaver december 31 2017do hear talk include many people hate wonder hate alan sandoval december 31 2017who uses word haters new years wish marlene december 31 2017you say happy new year koren pollitt december 31 2017here trump new year eve tweet 2016 happy new year including many enemies fought lost badly know love donald j trump december 31 2016this nothing new trump years trump directed messages enemies haters new year easter thanksgiving anniversary 9 11 pic twitter com 4fpae2kypa daniel dale december 31 2017trump holiday tweets clearly presidential long work hallmark becoming president steven goodine december 31 2017he always like difference last years filter breaking roy schulze december 31 2017who apart teenager uses term haters wendy december 31 2017he fucking 5 year old knows december 31 2017so people voted hole thinking would change got power wrong 70 year old men change year older photo andrew burton getty images\n"
          ]
        }
      ]
    },
    {
      "cell_type": "markdown",
      "metadata": {
        "id": "Ktf6JS2GNhKI"
      },
      "source": [
        "### 2.5. Lemmatizing words"
      ]
    },
    {
      "cell_type": "code",
      "source": [
        "# The first row of text BEFORE cleaning\n",
        "print(fake_news['combined'][0])"
      ],
      "metadata": {
        "colab": {
          "base_uri": "https://localhost:8080/"
        },
        "id": "FUQmAG1mAXAA",
        "outputId": "664b29c8-9abe-4912-89fa-ecb425f54747"
      },
      "execution_count": null,
      "outputs": [
        {
          "output_type": "stream",
          "name": "stdout",
          "text": [
            "donald trump sends embarrassing new year eve message disturbing donald trump wish americans happy new year leave instead give shout enemies haters dishonest fake news media former reality show star one job country rapidly grows stronger smarter want wish friends supporters enemies haters even dishonest fake news media happy healthy new year president angry pants tweeted 2018 great year america country rapidly grows stronger smarter want wish friends supporters enemies haters even dishonest fake news media happy healthy new year 2018 great year america donald j trump december 31 2017trump tweet went welll expect kind president sends new year greeting like despicable petty infantile gibberish trump lack decency even allow rise gutter long enough wish american citizens happy new year bishop talbert swan december 31 2017no one likes calvin december 31 2017your impeachment would make 2018 great year america also accept regaining control congress miranda yaver december 31 2017do hear talk include many people hate wonder hate alan sandoval december 31 2017who uses word haters new years wish marlene december 31 2017you say happy new year koren pollitt december 31 2017here trump new year eve tweet 2016 happy new year including many enemies fought lost badly know love donald j trump december 31 2016this nothing new trump years trump directed messages enemies haters new year easter thanksgiving anniversary 9 11 pic twitter com 4fpae2kypa daniel dale december 31 2017trump holiday tweets clearly presidential long work hallmark becoming president steven goodine december 31 2017he always like difference last years filter breaking roy schulze december 31 2017who apart teenager uses term haters wendy december 31 2017he fucking 5 year old knows december 31 2017so people voted hole thinking would change got power wrong 70 year old men change year older photo andrew burton getty images\n"
          ]
        }
      ]
    },
    {
      "cell_type": "code",
      "execution_count": null,
      "metadata": {
        "id": "BZH0dkIZNpRP"
      },
      "outputs": [],
      "source": [
        "# Initialize the lemmatizer\n",
        "lem = WordNetLemmatizer()\n",
        "\n",
        "# Function to lemmatize text\n",
        "def lemm(text):\n",
        "    word_tokens = word_tokenize(text)\n",
        "    lemmatized = [lem.lemmatize(w) for w in word_tokens]\n",
        "    return ' '.join([word for word in lemmatized if len(word) > 1])"
      ]
    },
    {
      "cell_type": "code",
      "execution_count": null,
      "metadata": {
        "id": "-UqYIUsjQSLM"
      },
      "outputs": [],
      "source": [
        "# Lemmatizing words in titles and texts\n",
        "fake_news['combined'] = fake_news['combined'].apply(lemm)\n",
        "true_news['combined'] = true_news['combined'].apply(lemm)"
      ]
    },
    {
      "cell_type": "code",
      "source": [
        "# The first row of text AFTER cleaning\n",
        "print(fake_news['combined'][0])"
      ],
      "metadata": {
        "colab": {
          "base_uri": "https://localhost:8080/"
        },
        "id": "JzPB6E1RAc8d",
        "outputId": "476a7906-98f7-432a-9540-b56eec4a18b1"
      },
      "execution_count": null,
      "outputs": [
        {
          "output_type": "stream",
          "name": "stdout",
          "text": [
            "donald trump sends embarrassing new year eve message disturbing donald trump wish american happy new year leave instead give shout enemy hater dishonest fake news medium former reality show star one job country rapidly grows stronger smarter want wish friend supporter enemy hater even dishonest fake news medium happy healthy new year president angry pant tweeted 2018 great year america country rapidly grows stronger smarter want wish friend supporter enemy hater even dishonest fake news medium happy healthy new year 2018 great year america donald trump december 31 2017trump tweet went welll expect kind president sends new year greeting like despicable petty infantile gibberish trump lack decency even allow rise gutter long enough wish american citizen happy new year bishop talbert swan december 31 2017no one like calvin december 31 2017your impeachment would make 2018 great year america also accept regaining control congress miranda yaver december 31 2017do hear talk include many people hate wonder hate alan sandoval december 31 2017who us word hater new year wish marlene december 31 2017you say happy new year koren pollitt december 31 2017here trump new year eve tweet 2016 happy new year including many enemy fought lost badly know love donald trump december 31 2016this nothing new trump year trump directed message enemy hater new year easter thanksgiving anniversary 11 pic twitter com 4fpae2kypa daniel dale december 31 2017trump holiday tweet clearly presidential long work hallmark becoming president steven goodine december 31 2017he always like difference last year filter breaking roy schulze december 31 2017who apart teenager us term hater wendy december 31 2017he fucking year old know december 31 2017so people voted hole thinking would change got power wrong 70 year old men change year older photo andrew burton getty image\n"
          ]
        }
      ]
    },
    {
      "cell_type": "markdown",
      "metadata": {
        "id": "BfaPPodWfY1G"
      },
      "source": [
        "### 2.6. Concatenating the datasets into a dataframe"
      ]
    },
    {
      "cell_type": "code",
      "execution_count": null,
      "metadata": {
        "id": "w0ZCCf_ZXvqM"
      },
      "outputs": [],
      "source": [
        "df = pd.concat([fake_news, true_news], axis=0, ignore_index=True)"
      ]
    },
    {
      "cell_type": "code",
      "execution_count": null,
      "metadata": {
        "colab": {
          "base_uri": "https://localhost:8080/",
          "height": 597
        },
        "id": "sDcY3LTHVtGi",
        "outputId": "dc3e98d9-0714-4836-8495-fe165ea57cd3",
        "collapsed": true
      },
      "outputs": [
        {
          "output_type": "execute_result",
          "data": {
            "text/plain": [
              "                                                   title  \\\n",
              "0       Donald Trump Sends Out Embarrassing New Year’...   \n",
              "1       Drunk Bragging Trump Staffer Started Russian ...   \n",
              "2       Sheriff David Clarke Becomes An Internet Joke...   \n",
              "3       Trump Is So Obsessed He Even Has Obama’s Name...   \n",
              "4       Pope Francis Just Called Out Donald Trump Dur...   \n",
              "...                                                  ...   \n",
              "38642  'Fully committed' NATO backs new U.S. approach...   \n",
              "38643  LexisNexis withdrew two products from Chinese ...   \n",
              "38644  Minsk cultural hub becomes haven from authorities   \n",
              "38645  Vatican upbeat on possibility of Pope Francis ...   \n",
              "38646  Indonesia to buy $1.14 billion worth of Russia...   \n",
              "\n",
              "                                                    text    subject  \\\n",
              "0      Donald Trump just couldn t wish all Americans ...       News   \n",
              "1      House Intelligence Committee Chairman Devin Nu...       News   \n",
              "2      On Friday, it was revealed that former Milwauk...       News   \n",
              "3      On Christmas day, Donald Trump announced that ...       News   \n",
              "4      Pope Francis used his annual Christmas Day mes...       News   \n",
              "...                                                  ...        ...   \n",
              "38642  BRUSSELS (Reuters) - NATO allies on Tuesday we...  worldnews   \n",
              "38643  LONDON (Reuters) - LexisNexis, a provider of l...  worldnews   \n",
              "38644  MINSK (Reuters) - In the shadow of disused Sov...  worldnews   \n",
              "38645  MOSCOW (Reuters) - Vatican Secretary of State ...  worldnews   \n",
              "38646  JAKARTA (Reuters) - Indonesia will buy 11 Sukh...  worldnews   \n",
              "\n",
              "            date                                           combined  label  \n",
              "0     2017-12-31  donald trump sends embarrassing new year eve m...      1  \n",
              "1     2017-12-31  drunk bragging trump staffer started russian c...      1  \n",
              "2     2017-12-30  sheriff david clarke becomes internet joke thr...      1  \n",
              "3     2017-12-29  trump obsessed even obama name coded website i...      1  \n",
              "4     2017-12-25  pope francis called donald trump christmas spe...      1  \n",
              "...          ...                                                ...    ...  \n",
              "38642        NaT  fully committed nato back new approach afghani...      0  \n",
              "38643        NaT  lexisnexis withdrew two product chinese market...      0  \n",
              "38644        NaT  minsk cultural hub becomes authority minsk reu...      0  \n",
              "38645        NaT  vatican upbeat possibility pope francis visiti...      0  \n",
              "38646        NaT  indonesia buy 14 billion worth russian jet jak...      0  \n",
              "\n",
              "[38647 rows x 6 columns]"
            ],
            "text/html": [
              "\n",
              "  <div id=\"df-8874c2d9-f824-4462-ada9-0c0956b725cf\" class=\"colab-df-container\">\n",
              "    <div>\n",
              "<style scoped>\n",
              "    .dataframe tbody tr th:only-of-type {\n",
              "        vertical-align: middle;\n",
              "    }\n",
              "\n",
              "    .dataframe tbody tr th {\n",
              "        vertical-align: top;\n",
              "    }\n",
              "\n",
              "    .dataframe thead th {\n",
              "        text-align: right;\n",
              "    }\n",
              "</style>\n",
              "<table border=\"1\" class=\"dataframe\">\n",
              "  <thead>\n",
              "    <tr style=\"text-align: right;\">\n",
              "      <th></th>\n",
              "      <th>title</th>\n",
              "      <th>text</th>\n",
              "      <th>subject</th>\n",
              "      <th>date</th>\n",
              "      <th>combined</th>\n",
              "      <th>label</th>\n",
              "    </tr>\n",
              "  </thead>\n",
              "  <tbody>\n",
              "    <tr>\n",
              "      <th>0</th>\n",
              "      <td>Donald Trump Sends Out Embarrassing New Year’...</td>\n",
              "      <td>Donald Trump just couldn t wish all Americans ...</td>\n",
              "      <td>News</td>\n",
              "      <td>2017-12-31</td>\n",
              "      <td>donald trump sends embarrassing new year eve m...</td>\n",
              "      <td>1</td>\n",
              "    </tr>\n",
              "    <tr>\n",
              "      <th>1</th>\n",
              "      <td>Drunk Bragging Trump Staffer Started Russian ...</td>\n",
              "      <td>House Intelligence Committee Chairman Devin Nu...</td>\n",
              "      <td>News</td>\n",
              "      <td>2017-12-31</td>\n",
              "      <td>drunk bragging trump staffer started russian c...</td>\n",
              "      <td>1</td>\n",
              "    </tr>\n",
              "    <tr>\n",
              "      <th>2</th>\n",
              "      <td>Sheriff David Clarke Becomes An Internet Joke...</td>\n",
              "      <td>On Friday, it was revealed that former Milwauk...</td>\n",
              "      <td>News</td>\n",
              "      <td>2017-12-30</td>\n",
              "      <td>sheriff david clarke becomes internet joke thr...</td>\n",
              "      <td>1</td>\n",
              "    </tr>\n",
              "    <tr>\n",
              "      <th>3</th>\n",
              "      <td>Trump Is So Obsessed He Even Has Obama’s Name...</td>\n",
              "      <td>On Christmas day, Donald Trump announced that ...</td>\n",
              "      <td>News</td>\n",
              "      <td>2017-12-29</td>\n",
              "      <td>trump obsessed even obama name coded website i...</td>\n",
              "      <td>1</td>\n",
              "    </tr>\n",
              "    <tr>\n",
              "      <th>4</th>\n",
              "      <td>Pope Francis Just Called Out Donald Trump Dur...</td>\n",
              "      <td>Pope Francis used his annual Christmas Day mes...</td>\n",
              "      <td>News</td>\n",
              "      <td>2017-12-25</td>\n",
              "      <td>pope francis called donald trump christmas spe...</td>\n",
              "      <td>1</td>\n",
              "    </tr>\n",
              "    <tr>\n",
              "      <th>...</th>\n",
              "      <td>...</td>\n",
              "      <td>...</td>\n",
              "      <td>...</td>\n",
              "      <td>...</td>\n",
              "      <td>...</td>\n",
              "      <td>...</td>\n",
              "    </tr>\n",
              "    <tr>\n",
              "      <th>38642</th>\n",
              "      <td>'Fully committed' NATO backs new U.S. approach...</td>\n",
              "      <td>BRUSSELS (Reuters) - NATO allies on Tuesday we...</td>\n",
              "      <td>worldnews</td>\n",
              "      <td>NaT</td>\n",
              "      <td>fully committed nato back new approach afghani...</td>\n",
              "      <td>0</td>\n",
              "    </tr>\n",
              "    <tr>\n",
              "      <th>38643</th>\n",
              "      <td>LexisNexis withdrew two products from Chinese ...</td>\n",
              "      <td>LONDON (Reuters) - LexisNexis, a provider of l...</td>\n",
              "      <td>worldnews</td>\n",
              "      <td>NaT</td>\n",
              "      <td>lexisnexis withdrew two product chinese market...</td>\n",
              "      <td>0</td>\n",
              "    </tr>\n",
              "    <tr>\n",
              "      <th>38644</th>\n",
              "      <td>Minsk cultural hub becomes haven from authorities</td>\n",
              "      <td>MINSK (Reuters) - In the shadow of disused Sov...</td>\n",
              "      <td>worldnews</td>\n",
              "      <td>NaT</td>\n",
              "      <td>minsk cultural hub becomes authority minsk reu...</td>\n",
              "      <td>0</td>\n",
              "    </tr>\n",
              "    <tr>\n",
              "      <th>38645</th>\n",
              "      <td>Vatican upbeat on possibility of Pope Francis ...</td>\n",
              "      <td>MOSCOW (Reuters) - Vatican Secretary of State ...</td>\n",
              "      <td>worldnews</td>\n",
              "      <td>NaT</td>\n",
              "      <td>vatican upbeat possibility pope francis visiti...</td>\n",
              "      <td>0</td>\n",
              "    </tr>\n",
              "    <tr>\n",
              "      <th>38646</th>\n",
              "      <td>Indonesia to buy $1.14 billion worth of Russia...</td>\n",
              "      <td>JAKARTA (Reuters) - Indonesia will buy 11 Sukh...</td>\n",
              "      <td>worldnews</td>\n",
              "      <td>NaT</td>\n",
              "      <td>indonesia buy 14 billion worth russian jet jak...</td>\n",
              "      <td>0</td>\n",
              "    </tr>\n",
              "  </tbody>\n",
              "</table>\n",
              "<p>38647 rows × 6 columns</p>\n",
              "</div>\n",
              "    <div class=\"colab-df-buttons\">\n",
              "\n",
              "  <div class=\"colab-df-container\">\n",
              "    <button class=\"colab-df-convert\" onclick=\"convertToInteractive('df-8874c2d9-f824-4462-ada9-0c0956b725cf')\"\n",
              "            title=\"Convert this dataframe to an interactive table.\"\n",
              "            style=\"display:none;\">\n",
              "\n",
              "  <svg xmlns=\"http://www.w3.org/2000/svg\" height=\"24px\" viewBox=\"0 -960 960 960\">\n",
              "    <path d=\"M120-120v-720h720v720H120Zm60-500h600v-160H180v160Zm220 220h160v-160H400v160Zm0 220h160v-160H400v160ZM180-400h160v-160H180v160Zm440 0h160v-160H620v160ZM180-180h160v-160H180v160Zm440 0h160v-160H620v160Z\"/>\n",
              "  </svg>\n",
              "    </button>\n",
              "\n",
              "  <style>\n",
              "    .colab-df-container {\n",
              "      display:flex;\n",
              "      gap: 12px;\n",
              "    }\n",
              "\n",
              "    .colab-df-convert {\n",
              "      background-color: #E8F0FE;\n",
              "      border: none;\n",
              "      border-radius: 50%;\n",
              "      cursor: pointer;\n",
              "      display: none;\n",
              "      fill: #1967D2;\n",
              "      height: 32px;\n",
              "      padding: 0 0 0 0;\n",
              "      width: 32px;\n",
              "    }\n",
              "\n",
              "    .colab-df-convert:hover {\n",
              "      background-color: #E2EBFA;\n",
              "      box-shadow: 0px 1px 2px rgba(60, 64, 67, 0.3), 0px 1px 3px 1px rgba(60, 64, 67, 0.15);\n",
              "      fill: #174EA6;\n",
              "    }\n",
              "\n",
              "    .colab-df-buttons div {\n",
              "      margin-bottom: 4px;\n",
              "    }\n",
              "\n",
              "    [theme=dark] .colab-df-convert {\n",
              "      background-color: #3B4455;\n",
              "      fill: #D2E3FC;\n",
              "    }\n",
              "\n",
              "    [theme=dark] .colab-df-convert:hover {\n",
              "      background-color: #434B5C;\n",
              "      box-shadow: 0px 1px 3px 1px rgba(0, 0, 0, 0.15);\n",
              "      filter: drop-shadow(0px 1px 2px rgba(0, 0, 0, 0.3));\n",
              "      fill: #FFFFFF;\n",
              "    }\n",
              "  </style>\n",
              "\n",
              "    <script>\n",
              "      const buttonEl =\n",
              "        document.querySelector('#df-8874c2d9-f824-4462-ada9-0c0956b725cf button.colab-df-convert');\n",
              "      buttonEl.style.display =\n",
              "        google.colab.kernel.accessAllowed ? 'block' : 'none';\n",
              "\n",
              "      async function convertToInteractive(key) {\n",
              "        const element = document.querySelector('#df-8874c2d9-f824-4462-ada9-0c0956b725cf');\n",
              "        const dataTable =\n",
              "          await google.colab.kernel.invokeFunction('convertToInteractive',\n",
              "                                                    [key], {});\n",
              "        if (!dataTable) return;\n",
              "\n",
              "        const docLinkHtml = 'Like what you see? Visit the ' +\n",
              "          '<a target=\"_blank\" href=https://colab.research.google.com/notebooks/data_table.ipynb>data table notebook</a>'\n",
              "          + ' to learn more about interactive tables.';\n",
              "        element.innerHTML = '';\n",
              "        dataTable['output_type'] = 'display_data';\n",
              "        await google.colab.output.renderOutput(dataTable, element);\n",
              "        const docLink = document.createElement('div');\n",
              "        docLink.innerHTML = docLinkHtml;\n",
              "        element.appendChild(docLink);\n",
              "      }\n",
              "    </script>\n",
              "  </div>\n",
              "\n",
              "\n",
              "<div id=\"df-6b195f60-60a6-4a34-bfa4-4f9fbf50b38e\">\n",
              "  <button class=\"colab-df-quickchart\" onclick=\"quickchart('df-6b195f60-60a6-4a34-bfa4-4f9fbf50b38e')\"\n",
              "            title=\"Suggest charts\"\n",
              "            style=\"display:none;\">\n",
              "\n",
              "<svg xmlns=\"http://www.w3.org/2000/svg\" height=\"24px\"viewBox=\"0 0 24 24\"\n",
              "     width=\"24px\">\n",
              "    <g>\n",
              "        <path d=\"M19 3H5c-1.1 0-2 .9-2 2v14c0 1.1.9 2 2 2h14c1.1 0 2-.9 2-2V5c0-1.1-.9-2-2-2zM9 17H7v-7h2v7zm4 0h-2V7h2v10zm4 0h-2v-4h2v4z\"/>\n",
              "    </g>\n",
              "</svg>\n",
              "  </button>\n",
              "\n",
              "<style>\n",
              "  .colab-df-quickchart {\n",
              "      --bg-color: #E8F0FE;\n",
              "      --fill-color: #1967D2;\n",
              "      --hover-bg-color: #E2EBFA;\n",
              "      --hover-fill-color: #174EA6;\n",
              "      --disabled-fill-color: #AAA;\n",
              "      --disabled-bg-color: #DDD;\n",
              "  }\n",
              "\n",
              "  [theme=dark] .colab-df-quickchart {\n",
              "      --bg-color: #3B4455;\n",
              "      --fill-color: #D2E3FC;\n",
              "      --hover-bg-color: #434B5C;\n",
              "      --hover-fill-color: #FFFFFF;\n",
              "      --disabled-bg-color: #3B4455;\n",
              "      --disabled-fill-color: #666;\n",
              "  }\n",
              "\n",
              "  .colab-df-quickchart {\n",
              "    background-color: var(--bg-color);\n",
              "    border: none;\n",
              "    border-radius: 50%;\n",
              "    cursor: pointer;\n",
              "    display: none;\n",
              "    fill: var(--fill-color);\n",
              "    height: 32px;\n",
              "    padding: 0;\n",
              "    width: 32px;\n",
              "  }\n",
              "\n",
              "  .colab-df-quickchart:hover {\n",
              "    background-color: var(--hover-bg-color);\n",
              "    box-shadow: 0 1px 2px rgba(60, 64, 67, 0.3), 0 1px 3px 1px rgba(60, 64, 67, 0.15);\n",
              "    fill: var(--button-hover-fill-color);\n",
              "  }\n",
              "\n",
              "  .colab-df-quickchart-complete:disabled,\n",
              "  .colab-df-quickchart-complete:disabled:hover {\n",
              "    background-color: var(--disabled-bg-color);\n",
              "    fill: var(--disabled-fill-color);\n",
              "    box-shadow: none;\n",
              "  }\n",
              "\n",
              "  .colab-df-spinner {\n",
              "    border: 2px solid var(--fill-color);\n",
              "    border-color: transparent;\n",
              "    border-bottom-color: var(--fill-color);\n",
              "    animation:\n",
              "      spin 1s steps(1) infinite;\n",
              "  }\n",
              "\n",
              "  @keyframes spin {\n",
              "    0% {\n",
              "      border-color: transparent;\n",
              "      border-bottom-color: var(--fill-color);\n",
              "      border-left-color: var(--fill-color);\n",
              "    }\n",
              "    20% {\n",
              "      border-color: transparent;\n",
              "      border-left-color: var(--fill-color);\n",
              "      border-top-color: var(--fill-color);\n",
              "    }\n",
              "    30% {\n",
              "      border-color: transparent;\n",
              "      border-left-color: var(--fill-color);\n",
              "      border-top-color: var(--fill-color);\n",
              "      border-right-color: var(--fill-color);\n",
              "    }\n",
              "    40% {\n",
              "      border-color: transparent;\n",
              "      border-right-color: var(--fill-color);\n",
              "      border-top-color: var(--fill-color);\n",
              "    }\n",
              "    60% {\n",
              "      border-color: transparent;\n",
              "      border-right-color: var(--fill-color);\n",
              "    }\n",
              "    80% {\n",
              "      border-color: transparent;\n",
              "      border-right-color: var(--fill-color);\n",
              "      border-bottom-color: var(--fill-color);\n",
              "    }\n",
              "    90% {\n",
              "      border-color: transparent;\n",
              "      border-bottom-color: var(--fill-color);\n",
              "    }\n",
              "  }\n",
              "</style>\n",
              "\n",
              "  <script>\n",
              "    async function quickchart(key) {\n",
              "      const quickchartButtonEl =\n",
              "        document.querySelector('#' + key + ' button');\n",
              "      quickchartButtonEl.disabled = true;  // To prevent multiple clicks.\n",
              "      quickchartButtonEl.classList.add('colab-df-spinner');\n",
              "      try {\n",
              "        const charts = await google.colab.kernel.invokeFunction(\n",
              "            'suggestCharts', [key], {});\n",
              "      } catch (error) {\n",
              "        console.error('Error during call to suggestCharts:', error);\n",
              "      }\n",
              "      quickchartButtonEl.classList.remove('colab-df-spinner');\n",
              "      quickchartButtonEl.classList.add('colab-df-quickchart-complete');\n",
              "    }\n",
              "    (() => {\n",
              "      let quickchartButtonEl =\n",
              "        document.querySelector('#df-6b195f60-60a6-4a34-bfa4-4f9fbf50b38e button');\n",
              "      quickchartButtonEl.style.display =\n",
              "        google.colab.kernel.accessAllowed ? 'block' : 'none';\n",
              "    })();\n",
              "  </script>\n",
              "</div>\n",
              "\n",
              "  <div id=\"id_2e5d6bba-3e17-4624-aed0-29e0d17914b0\">\n",
              "    <style>\n",
              "      .colab-df-generate {\n",
              "        background-color: #E8F0FE;\n",
              "        border: none;\n",
              "        border-radius: 50%;\n",
              "        cursor: pointer;\n",
              "        display: none;\n",
              "        fill: #1967D2;\n",
              "        height: 32px;\n",
              "        padding: 0 0 0 0;\n",
              "        width: 32px;\n",
              "      }\n",
              "\n",
              "      .colab-df-generate:hover {\n",
              "        background-color: #E2EBFA;\n",
              "        box-shadow: 0px 1px 2px rgba(60, 64, 67, 0.3), 0px 1px 3px 1px rgba(60, 64, 67, 0.15);\n",
              "        fill: #174EA6;\n",
              "      }\n",
              "\n",
              "      [theme=dark] .colab-df-generate {\n",
              "        background-color: #3B4455;\n",
              "        fill: #D2E3FC;\n",
              "      }\n",
              "\n",
              "      [theme=dark] .colab-df-generate:hover {\n",
              "        background-color: #434B5C;\n",
              "        box-shadow: 0px 1px 3px 1px rgba(0, 0, 0, 0.15);\n",
              "        filter: drop-shadow(0px 1px 2px rgba(0, 0, 0, 0.3));\n",
              "        fill: #FFFFFF;\n",
              "      }\n",
              "    </style>\n",
              "    <button class=\"colab-df-generate\" onclick=\"generateWithVariable('df')\"\n",
              "            title=\"Generate code using this dataframe.\"\n",
              "            style=\"display:none;\">\n",
              "\n",
              "  <svg xmlns=\"http://www.w3.org/2000/svg\" height=\"24px\"viewBox=\"0 0 24 24\"\n",
              "       width=\"24px\">\n",
              "    <path d=\"M7,19H8.4L18.45,9,17,7.55,7,17.6ZM5,21V16.75L18.45,3.32a2,2,0,0,1,2.83,0l1.4,1.43a1.91,1.91,0,0,1,.58,1.4,1.91,1.91,0,0,1-.58,1.4L9.25,21ZM18.45,9,17,7.55Zm-12,3A5.31,5.31,0,0,0,4.9,8.1,5.31,5.31,0,0,0,1,6.5,5.31,5.31,0,0,0,4.9,4.9,5.31,5.31,0,0,0,6.5,1,5.31,5.31,0,0,0,8.1,4.9,5.31,5.31,0,0,0,12,6.5,5.46,5.46,0,0,0,6.5,12Z\"/>\n",
              "  </svg>\n",
              "    </button>\n",
              "    <script>\n",
              "      (() => {\n",
              "      const buttonEl =\n",
              "        document.querySelector('#id_2e5d6bba-3e17-4624-aed0-29e0d17914b0 button.colab-df-generate');\n",
              "      buttonEl.style.display =\n",
              "        google.colab.kernel.accessAllowed ? 'block' : 'none';\n",
              "\n",
              "      buttonEl.onclick = () => {\n",
              "        google.colab.notebook.generateWithVariable('df');\n",
              "      }\n",
              "      })();\n",
              "    </script>\n",
              "  </div>\n",
              "\n",
              "    </div>\n",
              "  </div>\n"
            ],
            "application/vnd.google.colaboratory.intrinsic+json": {
              "type": "dataframe",
              "variable_name": "df",
              "summary": "{\n  \"name\": \"df\",\n  \"rows\": 38647,\n  \"fields\": [\n    {\n      \"column\": \"title\",\n      \"properties\": {\n        \"dtype\": \"string\",\n        \"num_unique_values\": 38271,\n        \"samples\": [\n          \"THIS ONE PICTURE Tells You Everything You Need To Know About The Muslim Refugee Invasion\",\n          \"UNHINGED TRUMP PROTESTER Arrested For Slapping Police Officer\\u2019s Horse\",\n          \"Republican lawmakers shift to 'yes' on healthcare bill with changes\"\n        ],\n        \"semantic_type\": \"\",\n        \"description\": \"\"\n      }\n    },\n    {\n      \"column\": \"text\",\n      \"properties\": {\n        \"dtype\": \"string\",\n        \"num_unique_values\": 38646,\n        \"samples\": [\n          \" (This September 29 has been corrected to fix date of election in paragraph 3) NAIROBI (Reuters) - A Kenyan government watchdog said on Friday it was investigating whether police had assaulted students during protests this week at the University of Nairobi over the detention of an opposition lawmaker.   Police fired tear gas on Thursday at the protesting students. Video footage posted on social media later in the day showed uniformed officers outside dormitories and inside classrooms using batons to hit people who did not appear to be involved in the campus protests.  It was the latest crackdown by police on protests since an Aug. 8 presidential election that was later annulled by the Supreme Court. A re-run of the vote has been set for Oct. 26. The Independent Police Oversight Authority (IPOA)  this morning noted from social media reports of an incident in which members of the National Police Service allegedly stormed the University of Nairobi and assaulted students at the institution,  the authority said on its Twitter feed.  It requested that any member of the public come forward to provide information to aid the investigation.  The students had been protesting against the re-arrest of a lawmaker, Paul Ongili Owino, on Wednesday, shortly after he was released on bail on charges of subversion for calling President Uhuru Kenyatta a  son of a dog  at a campaign rally. Kenya is a key Western ally in a region often roiled by violence. Preparations for the re-run of the election are being closely monitored for signs of instability, after at least 28 people were killed in unrest following the Aug. 8 vote. The IPOA watchdog was created in 2011, after police came under severe criticism for the number of protesters killed during demonstrations against disputed elections in 2007. The violence then killed around 1,2000 people. But local and international rights groups say the institution is struggling to fulfill its mandate to investigate allegations of police brutality in a country rife with reports from civilians of extrajudicial killings by security forces.  The IPOA has secured two convictions of police officers in the four years it has been operational. The watchdog pledged last month to fast-track investigations into high-profile deaths such as that of a baby allegedly killed by police in the violence after the election. [L4N1L34FC] But people familiar with the status of these investigations say the police are not cooperating with them, and that senior officials in the police force and the interior ministry insist officers killed only thieves and thugs. \",\n          \"WASHINGTON/CAIRO (Reuters) - Five Iraqi passengers and one Yemeni were barred from boarding an EgyptAir flight from Cairo to New York on Saturday after President Donald Trump halted the entry of citizens from seven Muslim-majority countries, sources at Cairo airport said. The passengers, arriving in transit to Cairo airport, were stopped and re-directed to flights headed for their home countries despite holding valid visas, the sources said.  Trump on Friday put a four-month hold on allowing refugees into the United States and temporarily barred travelers from Syria and six other Muslim-majority countries, saying the moves would help protect Americans from terrorist attacks. He said his most sweeping use of his presidential powers since taking office a week ago, barring travelers from the seven nations for at least 90 days, would give his administration time to develop more stringent screening procedures for refugees, immigrants and visitors. \\u201cI\\u2019m establishing new vetting measures to keep radical Islamic terrorists out of the United States of America. Don\\u2019t want them here,\\u201d Trump said earlier on Friday at the Pentagon. \\u201cWe only want to admit those into our country who will support our country and love deeply our people,\\u201d he said. The bans, though temporary, took effect immediately, causing havoc and confusion for would-be travelers with passports from Iran, Iraq, Libya, Somalia, Sudan, Syria and Yemen. Besides Cairo it was not immediately clear whether other  airports of countries listed by Trump had swiftly implemented the ban. Arab officials of the listed countries would not comment on the matter. The order seeks to prioritize refugees fleeing religious persecution, a move Trump separately said was aimed at helping Christians in Syria. That led some legal experts to question whether the order was constitutional. One group said it would announce a court challenge on Monday. The Council on American-Islamic Relations said the order targets Muslims because of their faith, contravening the U.S. Constitutional right to freedom of religion. \\u201cPresident Trump has cloaked what is a discriminatory ban against nationals of Muslim countries under the banner of national security,\\u201d said Greg Chen of the American Immigration Lawyers Association.  Trump has long pledged to take this kind of action, making it a prominent feature of his campaign for the Nov. 8 election. But people who work with Muslim immigrants and refugees were scrambling to determine the scope of the order. Even legal permanent residents - people with \\u201cgreen cards\\u201d allowing them to live and work in the United States - were being advised to consult immigration lawyers before traveling outside the country, or trying to return, according to Muslim Advocates, a civil rights group in Washington.  On Friday evening, Abed Ayoub of the American-Arab Anti-Discrimination Committee said he had fielded about 100 queries from people anxious about the order, which he said he believed could affect traveling green card holders, students, people coming to the United States for medical care and others. \\u201cIt\\u2019s chaos,\\u201d Ayoub said. During his campaign, Trump tapped into American fears about Islamic State militants and the flood of migrants into Europe from Syria\\u2019s civil war, saying refugees could be a \\u201cTrojan horse\\u201d that allowed attackers to enter the United States. In December 2015, he called for a ban on all Muslims entering the United States, drawing fire for suggesting a religious test for immigrants that critics said would violate the U.S. Constitution. His idea later evolved into a proposal for \\u201cextreme vetting.\\u201d  Trump\\u2019s order also suspends the Syrian refugee program until further notice, and will eventually give priority to minority religious groups fleeing persecution.  Trump said in an interview with the Christian Broadcasting Network that the exception would help Syrian Christians fleeing the civil war there. Legal experts were divided on whether this order would be constitutional. \\u201cIf they are thinking about an exception for Christians, in almost any other legal context discriminating in favor of one religion and against another religion could violate the constitution,\\u201d said Stephen Legomsky, a former chief counsel at U.S. Citizenship and Immigration Services in the Obama administration. But Peter Spiro, a professor at Temple University Beasley School of Law, said Trump\\u2019s action would likely be constitutional because the president and Congress are allowed considerable deference when it comes to asylum decisions. \\u201cIt\\u2019s a completely plausible prioritization, to the extent this group is actually being persecuted,\\u201d Spiro said. The order may also affect special refugee programs for Iraqis who worked for the U.S. government as translators after the 2003 invasion of Iraq. It is already affecting refugees and their families, said Jen Smyers of the Church World Service, a Protestant faith-based group that works with migrants. Smyers said she spoke to an Iraqi mother whose twin daughters remain in Iraq due to processing delays. \\u201cThose two 18-year-old daughters won\\u2019t be able to join their mother in the U.S.,\\u201d she said. Democrats on Friday were quick to condemn Trump\\u2019s order as un-American, saying it would tarnish the reputation of the United States as a land that welcomes immigrants. \\u201cToday\\u2019s executive order from President Trump is more about extreme xenophobia than extreme vetting,\\u201d said Democratic Senator Edward Markey in a statement. Some Republicans praised the move. Representative Bob Goodlatte, chairman of the House of Representatives Judiciary Committee, said Islamic State has threatened to use the U.S. immigration system, making it important to do more screening. \\u201cI am pleased that President Trump is using the tools granted to him by Congress and the power granted by the Constitution to help keep America safe and ensure we know who is entering the United States,\\u201d Goodlatte said in a statement. Without naming Trump, Iranian President Hassan Rouhani said on Saturday it was no time to build walls between nations and criticized steps towards cancelling world trade agreements. Trump on Wednesday ordered the construction of a U.S.-Mexican border wall, a major promise during his election campaign, as part of a package of measures to curb illegal immigration. \\u201cToday is not the time to erect walls between nations. They have forgotten that the Berlin wall fell years ago,\\u201d Rouhani said in a speech carried live on Iranian state television. He made no direct reference to Trump\\u2019s order regarding refugees and travelers from the seven mainly Muslim states. Rouhani, a pragmatist elected in 2013, thawed Iran\\u2019s relations with world powers after years of confrontation and engineered its 2015 deal with them under which it curbed its nuclear program in exchange for relief from sanctions. Rouhani said earlier this month that Trump could not unilaterally cancel the nuclear deal and that talk of renegotiating it was \\u201cmeaningless\\u201d. France and Germany voiced disquiet on Saturday over Trump\\u2019s new restrictions on immigration. \\u201cWelcoming refugees who flee war and oppression is part of our duty,\\u201d French Foreign Minister Jean-Marc Ayrault said at a joint news conference with German counterpart Sigmar Gabriel. \\u201cThe United States is a country where Christian traditions have an important meaning. Loving your neighbor is a major Christian value, and that includes helping people,\\u201d said  Gabriel. \\u201cI think that is what unites us in the West, and I think that is what we want to make clear to the Americans.\\u201d \",\n          \"PRISTINA (Reuters) - Kosovo s center-right coalition led by the Democratic Party of Kosovo signed a deal on Monday with the small New Alliance for Kosovo party to form a government, ending nearly three months of political deadlock after an election on June 11.      Finally Kosovo has started to move ... we had some big delays and our institutions now will be formed,  said Ramush Haradinaj, from the center-right coalition of parties made up of former guerrillas who fought the 1998-99 war against Serb forces. Under the deal, the parties along with ethnic minorities will secure 63 seats in the 120-seat parliament.  President Hashim Thaci is expected to give Haradinaj a mandate to form the government within days. A source who asked not to be named told Reuters the parliament session to elect the parliament speaker would be held this week. Haradinaj, who twice stood trial before the United Nations war crimes court for war crimes and was acquitted, briefly held the post of prime minister in 2005.  The smaller New Alliance for Kosovo party is led by Behgjet Pacolli, who is dubbed by media the richest Kosovar.  Pacolli, who also holds a Swiss passport, won many contracts from the Russian government to rebuild state buildings in Moscow in the  90s but a decade ago he moved his business from Moscow to Kazakhstan.  It is unclear what post Pacolli will hold in the new government.  The new government will have to tackle unemployment running at 30 percent and improve relations with Kosovo s neighbors, especially Serbia, a precondition for both countries to move forward in the European Union accession process. It must also reform health and education and the tax administration system as well as include representatives of some 120,000 Kosovo Serbs who do not recognize independence. Kosovo declared independence from Serbia in 2008, almost a decade after NATO air strikes drove out Serbian forces accused of expelling and killing ethnic Albanian civilians in a two-year counter-insurgency.  \"\n        ],\n        \"semantic_type\": \"\",\n        \"description\": \"\"\n      }\n    },\n    {\n      \"column\": \"subject\",\n      \"properties\": {\n        \"dtype\": \"category\",\n        \"num_unique_values\": 7,\n        \"samples\": [\n          \"News\",\n          \"politics\",\n          \"politicsNews\"\n        ],\n        \"semantic_type\": \"\",\n        \"description\": \"\"\n      }\n    },\n    {\n      \"column\": \"date\",\n      \"properties\": {\n        \"dtype\": \"date\",\n        \"min\": \"2015-05-01 00:00:00\",\n        \"max\": \"2017-12-31 00:00:00\",\n        \"num_unique_values\": 757,\n        \"samples\": [\n          \"2016-11-09 00:00:00\",\n          \"2017-09-17 00:00:00\",\n          \"2017-03-17 00:00:00\"\n        ],\n        \"semantic_type\": \"\",\n        \"description\": \"\"\n      }\n    },\n    {\n      \"column\": \"combined\",\n      \"properties\": {\n        \"dtype\": \"string\",\n        \"num_unique_values\": 38374,\n        \"samples\": [\n          \"white house budget slash countering violent extremism grant washington reuters budget proposal unveiled white house tuesday cut funding department homeland security program known countering violent extremism provides grant community counter radicalism outreach program whose root go back obama administration come scrutiny trump administration congressional republican favor law enforcement rather community outreach fight see growing islamic extremist threat beginning administration white house dhs official considered changing name program countering islamic extremism refocusing funding grant dealt islamic community community may extremist view like white supremacist trump administration frozen 10 million grant allocated end obama administration countering violent extremism program yet reallocate fund funding cut proposed budget would reduce 50 million currently allocated program zero fiscal year 2018 congress must vote pas budget likely amended enacted\",\n          \"today list city day rage reportedly planned scott air force base post warning great day major terror attack france citizen wake america fear organized chaos violence city across nation group claiming hacktivist group anonymous along number radical activist group calling nationwide day protesting friday july 15th day rage protest planned various group dozen major city throughout country police gearing major problem grid survivalscott air force base posted warning facebook possible protest friday st louis arch day rage protest planned time city across united state group calling part anonymous planning protest friday july 15th stand black life matter movement member anonymous say planned protest going happen scott air force base origionally posted message facebook around 10am thursday please advised air force office special investigation posted safety warning gateway arch st louis friday july 15 due potential protest criminal activity please safe avoid area time updated post since went viral message potential protest solidarity black life matter movement victim police brutality reaction last week officer involved shooting alton sterling philando castile anonymous posted youtube warning saturday calling collective day rage day action centered around civil disobedience right protest police department across united state enemy however hand want stay way silenced intimidated st anthony baton rouge police department already launched attack virtual infrastructure prepared release every single piece evidence expose corruption blatant disregard human life calling upon citizen united state conjunction black life matter movement well civil right activist participate day action injustice corrupt officer friday july 15th flood street strategic location order maximize voice location time located description tell family tell friend change world together freedom depends fox2nowhere list city supposedly planned please careful live city may want consider getting town friday phoenix 00pm eastlake park 1549 jefferson st phoenix az 85034 tuscon 00pm catalina park 900 4th avenue tucson az 85705 little rock 00pm outside state capitol building dr martin luther king jr dr little rock ar 72201 san francisco 00pm civic center plaza 355 mcallister st san francisco california 94102 oakland 00pm frank ogawa plaza frank ogawa plaza oakland ca 94612 los angeles 00pm leimert plaza park 4395 leimert blvd los angeles ca 90008 denver 00pm civic center park 100 14th ave pkwy denver colorado 80204 washington dc 00pm outside white house 1600 pennsylvania ave nw washington dc 20500 atlanta 00pm old decatur courthouse 101 court sq decatur ga 30030 tampa 00pm outside hillsborough courthouse 800 twiggs st tampa fl orlando 00pm lake eola park 195 rosalind ave orlando florida 32801 miami 00pm gwen cherry park nw 71 st miami florida 33147 chicago 00pm richard daley center 50 washington st chicago illinois 60602 de moines 00pm iowa state capitol 1007 grand ave de moines ia 50319 new orleans 00pm lafayette square new orleans la 70130 baltimore 00pm 201 pratt st baltimore md 21202 boston 00pm massachusetts state house 24 beacon st boston 01233 detroit 00pm campus martius park detroit michigan 48226 lansing 00pm state capitol building capitol avenue michigan avenue lansing mi 48933 ann arbor 00pm diag burn park ann arbor mi 48109 minneapolis 00pm minneapolis urban league 2100 plymouth ave minneapolis mn 55411 st louis 00pm gateway arch st louis 63102 carson city 00pm nevada state capitol building 101 carson st carson city nevada 89701 manhattan ny 00pm time square manhattan ny 10036 newark 00pm newark city hall 920 broad street newark new jersey 07102 durham 00pm 200 main st durham north carolina columbus 00pm goodale park columbus ohio 43215 cleveland 00pm cleveland public library 325 superior ave cleveland ohio 44114 portland 00pm pioneer courthouse square 701 sw 6th ave portland oregon 97204 philadelphia 00pm love park 1599 john kennedy blvd philadelphia pennsylvania 19102 pittsburgh 00pm pittsburgh city county building 414 grant st pittsburgh pennsylvania 15219 nashville 00pm 801 broadway nashville tn 37203 estes kefauver federal building memphis 00pm health science park memphis tn austin 00pm texas state capitol outside south gate 11th congress ave salt lake city 00pm salt lake city community college 4600 redwood rd salt lake city utah 84123 seattle 00pm queen anne baptist church 2011 1st ave seattle washington 98109 milwaukee 00pm dineen park milwaukee wisconsin grid survival\",\n          \"great press conference black pastor defends trump tell others openly support video dr scott interviewed meeting black pastor donald trump said 100 people meeting endorsed trump going pray really stuck one pastor said pastor support trump afraid openly support fear losing parishioner pretty sad huh daily caller dr darrell scott pastor new spirit revival center cleveland height ohio said monday meeting black pastor donald trump meaningful dialogue voiced concern sensitive african american community scott speaking trump tower new york city said concern trump already convinced concern liberal medium put portraying mr trump light know type person depicted able today allow see heart make mind find person medium depicted\"\n        ],\n        \"semantic_type\": \"\",\n        \"description\": \"\"\n      }\n    },\n    {\n      \"column\": \"label\",\n      \"properties\": {\n        \"dtype\": \"number\",\n        \"std\": 0,\n        \"min\": 0,\n        \"max\": 1,\n        \"num_unique_values\": 2,\n        \"samples\": [\n          0,\n          1\n        ],\n        \"semantic_type\": \"\",\n        \"description\": \"\"\n      }\n    }\n  ]\n}"
            }
          },
          "metadata": {},
          "execution_count": 28
        }
      ],
      "source": [
        "df"
      ]
    },
    {
      "cell_type": "markdown",
      "metadata": {
        "id": "ZFJRWzDqg0nb"
      },
      "source": [
        "### 2.7. Saving the datasets"
      ]
    },
    {
      "cell_type": "code",
      "execution_count": null,
      "metadata": {
        "id": "UJFr5bkQhcNe"
      },
      "outputs": [],
      "source": [
        "true_news.to_csv('cleaned_true_news.csv', index=False)"
      ]
    },
    {
      "cell_type": "code",
      "execution_count": null,
      "metadata": {
        "id": "l0RNGeoggpqT"
      },
      "outputs": [],
      "source": [
        "fake_news.to_csv('cleaned_fake_news.csv', index=False)"
      ]
    },
    {
      "cell_type": "code",
      "source": [
        "df.to_csv('df.csv', index=False)"
      ],
      "metadata": {
        "id": "q_V3t6F7AkmF"
      },
      "execution_count": null,
      "outputs": []
    },
    {
      "cell_type": "markdown",
      "source": [
        "### 2.8: Data Visualization"
      ],
      "metadata": {
        "id": "Nrfi5YJOBzMM"
      }
    },
    {
      "cell_type": "markdown",
      "source": [
        "#### Top common words in Fake and True News"
      ],
      "metadata": {
        "id": "dAESnwkvHsK0"
      }
    },
    {
      "cell_type": "code",
      "source": [
        "# Combine text from both datasets\n",
        "fake_text = ' '.join(fake_news['combined'].astype(str))\n",
        "true_text = ' '.join(true_news['combined'].astype(str))\n",
        "\n",
        "# Tokenize the text\n",
        "fake_words = word_tokenize(fake_text)\n",
        "true_words = word_tokenize(true_text)\n",
        "\n",
        "# Count word frequencies\n",
        "fake_word_counts = Counter(fake_words)\n",
        "true_word_counts = Counter(true_words)\n",
        "\n",
        "# Get the 10 most common words from each dataset\n",
        "top_fake_words = fake_word_counts.most_common(10)\n",
        "top_true_words = true_word_counts.most_common(10)\n",
        "\n",
        "# Combine the top words and counts into a dictionary for plotting\n",
        "all_words = {}\n",
        "\n",
        "for word, count in top_fake_words:\n",
        "    all_words[word] = {'fake': count, 'true': true_word_counts.get(word, 0)}\n",
        "\n",
        "for word, count in top_true_words:\n",
        "  if word not in all_words:\n",
        "    all_words[word] = {'fake': fake_word_counts.get(word,0), 'true': count}\n",
        "\n",
        "\n",
        "# Create the plot\n",
        "words = list(all_words.keys())\n",
        "fake_counts = [all_words[word]['fake'] for word in words]\n",
        "true_counts = [all_words[word]['true'] for word in words]\n",
        "\n",
        "X_axis = np.arange(len(words))\n",
        "\n",
        "plt.figure(figsize=(10, 6))\n",
        "plt.bar(X_axis - 0.2, fake_counts, 0.4, label='Fake')\n",
        "plt.bar(X_axis + 0.2, true_counts, 0.4, label='True')\n",
        "\n",
        "plt.xticks(X_axis, words, rotation=45, ha='right')  # Rotate x-axis labels\n",
        "plt.xlabel(\"Words\")\n",
        "plt.ylabel(\"Frequency\")\n",
        "plt.title(\"Most Common Words in Fake and True News\")\n",
        "plt.legend()\n",
        "plt.tight_layout()\n",
        "pathname = '/content/drive/My Drive/Data Mining Project/Plots/'\n",
        "plt.savefig(pathname + 'Most_common_words.png')\n",
        "plt.show()"
      ],
      "metadata": {
        "colab": {
          "base_uri": "https://localhost:8080/",
          "height": 594
        },
        "id": "6aKH8gOnukIw",
        "outputId": "4746836e-080e-4bb2-bf55-efe07de8fd79"
      },
      "execution_count": null,
      "outputs": [
        {
          "output_type": "display_data",
          "data": {
            "text/plain": [
              "<Figure size 1000x600 with 1 Axes>"
            ],
            "image/png": "[encoded data removed]"
          },
          "metadata": {}
        }
      ]
    },
    {
      "cell_type": "code",
      "source": [
        "pathname = '/content/drive/My Drive/Data Mining Project/Imports/'\n",
        "pickle.dump(words, open(pathname + 'words.pkl', 'wb'))\n",
        "pickle.dump(fake_counts, open(pathname + 'fake_counts.pkl', 'wb'))\n",
        "pickle.dump(true_counts, open(pathname + 'true_counts.pkl', 'wb'))"
      ],
      "metadata": {
        "id": "I8vopYO4W5QH"
      },
      "execution_count": null,
      "outputs": []
    },
    {
      "cell_type": "markdown",
      "source": [
        "#### Count Of News Subject In Fake/True News."
      ],
      "metadata": {
        "id": "vKB0oGOyPQ30"
      }
    },
    {
      "cell_type": "code",
      "source": [
        "fake_news['subject'].value_counts()\n"
      ],
      "metadata": {
        "colab": {
          "base_uri": "https://localhost:8080/",
          "height": 178
        },
        "collapsed": true,
        "id": "c-FmuwryOklL",
        "outputId": "9e88844b-c71b-4028-cd4f-029e817d7b2c"
      },
      "execution_count": null,
      "outputs": [
        {
          "output_type": "execute_result",
          "data": {
            "text/plain": [
              "subject\n",
              "politicsNews    11214\n",
              "worldnews        9978\n",
              "Name: count, dtype: int64"
            ],
            "text/html": [
              "<div>\n",
              "<style scoped>\n",
              "    .dataframe tbody tr th:only-of-type {\n",
              "        vertical-align: middle;\n",
              "    }\n",
              "\n",
              "    .dataframe tbody tr th {\n",
              "        vertical-align: top;\n",
              "    }\n",
              "\n",
              "    .dataframe thead th {\n",
              "        text-align: right;\n",
              "    }\n",
              "</style>\n",
              "<table border=\"1\" class=\"dataframe\">\n",
              "  <thead>\n",
              "    <tr style=\"text-align: right;\">\n",
              "      <th></th>\n",
              "      <th>count</th>\n",
              "    </tr>\n",
              "    <tr>\n",
              "      <th>subject</th>\n",
              "      <th></th>\n",
              "    </tr>\n",
              "  </thead>\n",
              "  <tbody>\n",
              "    <tr>\n",
              "      <th>politicsNews</th>\n",
              "      <td>11214</td>\n",
              "    </tr>\n",
              "    <tr>\n",
              "      <th>worldnews</th>\n",
              "      <td>9978</td>\n",
              "    </tr>\n",
              "  </tbody>\n",
              "</table>\n",
              "</div><br><label><b>dtype:</b> int64</label>"
            ]
          },
          "metadata": {},
          "execution_count": 33
        }
      ]
    },
    {
      "cell_type": "code",
      "source": [
        "true_news['subject'].value_counts()\n"
      ],
      "metadata": {
        "colab": {
          "base_uri": "https://localhost:8080/",
          "height": 272
        },
        "collapsed": true,
        "id": "7dPrujZ_O4Tb",
        "outputId": "de397abc-d2ac-4bae-e349-19f2d6172b09"
      },
      "execution_count": null,
      "outputs": [
        {
          "output_type": "execute_result",
          "data": {
            "text/plain": [
              "subject\n",
              "News               9050\n",
              "politics           6425\n",
              "US_News             783\n",
              "left-news           683\n",
              "Government News     514\n",
              "Name: count, dtype: int64"
            ],
            "text/html": [
              "<div>\n",
              "<style scoped>\n",
              "    .dataframe tbody tr th:only-of-type {\n",
              "        vertical-align: middle;\n",
              "    }\n",
              "\n",
              "    .dataframe tbody tr th {\n",
              "        vertical-align: top;\n",
              "    }\n",
              "\n",
              "    .dataframe thead th {\n",
              "        text-align: right;\n",
              "    }\n",
              "</style>\n",
              "<table border=\"1\" class=\"dataframe\">\n",
              "  <thead>\n",
              "    <tr style=\"text-align: right;\">\n",
              "      <th></th>\n",
              "      <th>count</th>\n",
              "    </tr>\n",
              "    <tr>\n",
              "      <th>subject</th>\n",
              "      <th></th>\n",
              "    </tr>\n",
              "  </thead>\n",
              "  <tbody>\n",
              "    <tr>\n",
              "      <th>News</th>\n",
              "      <td>9050</td>\n",
              "    </tr>\n",
              "    <tr>\n",
              "      <th>politics</th>\n",
              "      <td>6425</td>\n",
              "    </tr>\n",
              "    <tr>\n",
              "      <th>US_News</th>\n",
              "      <td>783</td>\n",
              "    </tr>\n",
              "    <tr>\n",
              "      <th>left-news</th>\n",
              "      <td>683</td>\n",
              "    </tr>\n",
              "    <tr>\n",
              "      <th>Government News</th>\n",
              "      <td>514</td>\n",
              "    </tr>\n",
              "  </tbody>\n",
              "</table>\n",
              "</div><br><label><b>dtype:</b> int64</label>"
            ]
          },
          "metadata": {},
          "execution_count": 34
        }
      ]
    },
    {
      "cell_type": "code",
      "source": [
        "df = pd.read_csv('/content/drive/My Drive/Data Mining Project/df.csv')"
      ],
      "metadata": {
        "id": "VMK10ADQ_U_C"
      },
      "execution_count": null,
      "outputs": []
    },
    {
      "cell_type": "code",
      "source": [
        "plt.figure(figsize=(10, 6))\n",
        "sns.countplot(data=df, x='subject', hue='label')\n",
        "plt.xlabel('Subject')\n",
        "plt.ylabel('Count')\n",
        "plt.xticks(rotation=45, ha='right')\n",
        "plt.tight_layout()\n",
        "plt.savefig('/content/drive/My Drive/Data Mining Project/Plots/count_of_news_subject.png')\n",
        "plt.show()"
      ],
      "metadata": {
        "colab": {
          "base_uri": "https://localhost:8080/",
          "height": 607
        },
        "id": "iuOYF99ZORn7",
        "outputId": "26e2e3a9-f7b7-4aa3-fcca-b95fcf57dad1"
      },
      "execution_count": null,
      "outputs": [
        {
          "output_type": "display_data",
          "data": {
            "text/plain": [
              "<Figure size 1000x600 with 1 Axes>"
            ],
            "image/png": "[encoded data removed]"
          },
          "metadata": {}
        }
      ]
    },
    {
      "cell_type": "markdown",
      "metadata": {
        "id": "gYzxJteCSJSK"
      },
      "source": [
        "## 3. Feature Engineering: TF-IDF\n",
        "The idea of doing TD-IDF is to convert text into numberical values so that the model ca be trained y fitting those value in.\n",
        "* First, we need to merged title and article context together.\n",
        "* Classfify X as the merged text, and y as the label. (fake = 1, true = 0).\n",
        "* Feed X into TF-IDF. Output will be (number of articles, number of unique words). The value of the output matrix will be the TF-IDF values."
      ]
    },
    {
      "cell_type": "code",
      "execution_count": null,
      "metadata": {
        "colab": {
          "base_uri": "https://localhost:8080/",
          "height": 109
        },
        "id": "7mxXBjGTZdw-",
        "outputId": "858ca535-8225-48fb-d9dd-c6c713f8d853"
      },
      "outputs": [
        {
          "output_type": "execute_result",
          "data": {
            "text/plain": [
              "'donald trump sends embarrassing new year eve message disturbing donald trump wish american happy new year leave instead give shout enemy hater dishonest fake news medium former reality show star one job country rapidly grows stronger smarter want wish friend supporter enemy hater even dishonest fake news medium happy healthy new year president angry pant tweeted 2018 great year america country rapidly grows stronger smarter want wish friend supporter enemy hater even dishonest fake news medium happy healthy new year 2018 great year america donald trump december 31 2017trump tweet went welll expect kind president sends new year greeting like despicable petty infantile gibberish trump lack decency even allow rise gutter long enough wish american citizen happy new year bishop talbert swan december 31 2017no one like calvin december 31 2017your impeachment would make 2018 great year america also accept regaining control congress miranda yaver december 31 2017do hear talk include many people hate wonder hate alan sandoval december 31 2017who us word hater new year wish marlene december 31 2017you say happy new year koren pollitt december 31 2017here trump new year eve tweet 2016 happy new year including many enemy fought lost badly know love donald trump december 31 2016this nothing new trump year trump directed message enemy hater new year easter thanksgiving anniversary 11 pic twitter com 4fpae2kypa daniel dale december 31 2017trump holiday tweet clearly presidential long work hallmark becoming president steven goodine december 31 2017he always like difference last year filter breaking roy schulze december 31 2017who apart teenager us term hater wendy december 31 2017he fucking year old know december 31 2017so people voted hole thinking would change got power wrong 70 year old men change year older photo andrew burton getty image'"
            ],
            "application/vnd.google.colaboratory.intrinsic+json": {
              "type": "string"
            }
          },
          "metadata": {},
          "execution_count": 42
        }
      ],
      "source": [
        "# First combined text\n",
        "df['combined'][0]"
      ]
    },
    {
      "cell_type": "code",
      "execution_count": null,
      "metadata": {
        "id": "jHHVZMveUDtg"
      },
      "outputs": [],
      "source": [
        "# Setting predictor variables\n",
        "X = df['combined'].values\n",
        "y = df['label'].values"
      ]
    },
    {
      "cell_type": "code",
      "execution_count": null,
      "metadata": {
        "colab": {
          "base_uri": "https://localhost:8080/"
        },
        "id": "mk-ZrAx-iYYn",
        "outputId": "0b712a81-4c74-430a-fc33-458514a954c2"
      },
      "outputs": [
        {
          "output_type": "stream",
          "name": "stdout",
          "text": [
            "(38647,)\n",
            "(38647,)\n"
          ]
        }
      ],
      "source": [
        "print(X.shape)\n",
        "print(y.shape)"
      ]
    },
    {
      "cell_type": "code",
      "execution_count": null,
      "metadata": {
        "id": "Cftp2EmDejtQ"
      },
      "outputs": [],
      "source": [
        "# Converting data to str and handling missing values\n",
        "X = df['combined'].astype(str).fillna(\"\")"
      ]
    },
    {
      "cell_type": "code",
      "execution_count": null,
      "metadata": {
        "id": "Ty4shiNxSI_7"
      },
      "outputs": [],
      "source": [
        "# Initiate vectorizer\n",
        "vectorizer = TfidfVectorizer()\n",
        "X = vectorizer.fit_transform(X)"
      ]
    },
    {
      "cell_type": "code",
      "source": [
        "pathname = '/content/drive/My Drive/Data Mining Project/Imports/'\n",
        "pickle.dump(vectorizer, open(pathname + 'tfidf_vectorizer.pkl', 'wb'))\n",
        "pickle.dump(X, open(pathname + 'X.pkl', 'wb'))\n",
        "pickle.dump(y, open(pathname + 'y.pkl', 'wb'))"
      ],
      "metadata": {
        "id": "8lFSY-JxGl-5"
      },
      "execution_count": null,
      "outputs": []
    },
    {
      "cell_type": "code",
      "source": [
        "X[0].shape"
      ],
      "metadata": {
        "colab": {
          "base_uri": "https://localhost:8080/"
        },
        "id": "WSO85wdvJPGs",
        "outputId": "5b3672bf-d9f4-442e-f3a5-7e4b4bc94790"
      },
      "execution_count": null,
      "outputs": [
        {
          "output_type": "execute_result",
          "data": {
            "text/plain": [
              "(1, 100896)"
            ]
          },
          "metadata": {},
          "execution_count": 39
        }
      ]
    },
    {
      "cell_type": "code",
      "execution_count": null,
      "metadata": {
        "colab": {
          "base_uri": "https://localhost:8080/"
        },
        "id": "wFARxlBmcRlV",
        "outputId": "ffb82277-2f92-4d03-f108-d52e00717cc9",
        "collapsed": true
      },
      "outputs": [
        {
          "output_type": "execute_result",
          "data": {
            "text/plain": [
              "<38647x100896 sparse matrix of type '<class 'numpy.float64'>'\n",
              "\twith 6278505 stored elements in Compressed Sparse Row format>"
            ]
          },
          "metadata": {},
          "execution_count": 46
        }
      ],
      "source": [
        "X"
      ]
    },
    {
      "cell_type": "markdown",
      "source": [
        "### TSNE Plot"
      ],
      "metadata": {
        "id": "EX6mlheeCmwJ"
      }
    },
    {
      "cell_type": "code",
      "source": [
        "tsne = TSNE(n_components=2, random_state=42, perplexity=30, init=\"random\")\n",
        "X_tsne = tsne.fit_transform(X)  # Directly apply to sparse matrix"
      ],
      "metadata": {
        "id": "_4NQLPRppw8R"
      },
      "execution_count": null,
      "outputs": []
    },
    {
      "cell_type": "code",
      "source": [
        "pathname = '/content/drive/My Drive/Data Mining Project/Imports'\n",
        "pickle.dump(X_tsne,  open(pathname + 'X_tsne.pkl', 'wb'))"
      ],
      "metadata": {
        "id": "qpdDEhwrWYVg"
      },
      "execution_count": null,
      "outputs": []
    },
    {
      "cell_type": "code",
      "source": [
        "# Scatter Plot for t-SNE\n",
        "plt.figure(figsize=(8,6))\n",
        "sns.scatterplot(x=X_tsne[:,0], y=X_tsne[:,1], hue=y, palette=['blue', 'red'], alpha=0.5)\n",
        "plt.xlim([-200, 200]) # adjust the range in the x-axis\n",
        "plt.ylim([-150, 150]) # adjust the range in the y-axis\n",
        "plt.title(\"Relationship Between Fake And True News \")\n",
        "plt.xlabel(\"t-SNE Component 1\")\n",
        "plt.ylabel(\"t-SNE Component 2\")\n",
        "\n",
        "save_dir = \"/content/drive/My Drive/Data Mining Project/Plots\"\n",
        "os.makedirs(save_dir, exist_ok=True)\n",
        "plt.savefig(os.path.join(save_dir, 'tsne_plot.png'))\n",
        "\n",
        "plt.show()"
      ],
      "metadata": {
        "id": "CcwAzvlaXYKR",
        "colab": {
          "base_uri": "https://localhost:8080/",
          "height": 564
        },
        "outputId": "99a128a5-589b-4f85-e44d-28713b3592a9"
      },
      "execution_count": null,
      "outputs": [
        {
          "output_type": "display_data",
          "data": {
            "text/plain": [
              "<Figure size 800x600 with 1 Axes>"
            ],
            "image/png": "[encoded data removed]"
          },
          "metadata": {}
        }
      ]
    },
    {
      "cell_type": "markdown",
      "metadata": {
        "id": "mf-wXqK0jwgl"
      },
      "source": [
        "## 4. Train / Test Splitting\n",
        "Splitting by using ratio of 70/30 (70% of the data will be trained, 30% of the data will be used to test)."
      ]
    },
    {
      "cell_type": "code",
      "execution_count": null,
      "metadata": {
        "id": "sQ1Fv2S-dl2I"
      },
      "outputs": [],
      "source": [
        "# The split\n",
        "X_train, X_test, y_train, y_test = train_test_split(X, y, test_size = 0.3, random_state = 42)"
      ]
    },
    {
      "cell_type": "code",
      "source": [
        "# Saving train-test set\n",
        "pathname = '/content/drive/My Drive/Data Mining Project/Imports/'\n",
        "pickle.dump(X_train, open(pathname + 'X_train.pkl', 'wb'))\n",
        "pickle.dump(X_test, open(pathname + 'X_test.pkl', 'wb'))\n",
        "pickle.dump(y_train, open(pathname + 'y_train.pkl', 'wb'))\n",
        "pickle.dump(y_test, open(pathname + 'y_test.pkl', 'wb'))"
      ],
      "metadata": {
        "id": "4qG7w5oBFWic"
      },
      "execution_count": null,
      "outputs": []
    },
    {
      "cell_type": "code",
      "source": [
        "print(X_train.shape)\n",
        "print(X_test.shape)\n",
        "print(y_train.shape)\n",
        "print(y_test.shape)"
      ],
      "metadata": {
        "colab": {
          "base_uri": "https://localhost:8080/"
        },
        "id": "gQ4MyvCZSNjF",
        "outputId": "476923de-316e-4c68-e87f-3538504155dd"
      },
      "execution_count": null,
      "outputs": [
        {
          "output_type": "stream",
          "name": "stdout",
          "text": [
            "(27052, 100896)\n",
            "(11595, 100896)\n",
            "(27052,)\n",
            "(11595,)\n"
          ]
        }
      ]
    },
    {
      "cell_type": "markdown",
      "metadata": {
        "id": "vlkfy4upoOuP"
      },
      "source": [
        "## 5. Create Models To Train\n",
        "There are the models we will use in this project:\n",
        "* SVM\n",
        "* Neural Network\n",
        "* Ensemble (Adaboost)\n",
        "* Ensemble (Bagging)\n",
        "* Decision Tree\n",
        "\n"
      ]
    },
    {
      "cell_type": "markdown",
      "source": [
        "### Logistic Regression"
      ],
      "metadata": {
        "id": "az8xqxJGG_Iu"
      }
    },
    {
      "cell_type": "code",
      "source": [
        "from sklearn.linear_model import LogisticRegression\n",
        "\n",
        "lr_model = LogisticRegression(penalty='l2', C=0.1)  # Example: L2 regularization with C=0.1\n",
        "lr_model.fit(X_train, y_train)\n",
        "lr_pred = lr_model.predict(X_test)\n",
        "\n",
        "lr_accuracy = accuracy_score(y_test, lr_pred)\n",
        "print(f'Accuracy: {lr_accuracy:.4f}')"
      ],
      "metadata": {
        "colab": {
          "base_uri": "https://localhost:8080/"
        },
        "id": "ifCv5byYG-U1",
        "outputId": "eab7fb1d-ffbd-4c02-9843-d09631dd90bb"
      },
      "execution_count": null,
      "outputs": [
        {
          "output_type": "stream",
          "name": "stdout",
          "text": [
            "Accuracy: 0.9682\n"
          ]
        }
      ]
    },
    {
      "cell_type": "code",
      "source": [
        "pathname = '/content/drive/My Drive/Data Mining Project/Imports/'\n",
        "pickle.dump(lr_model, open(pathname + 'lr_model.sav', 'wb'))"
      ],
      "metadata": {
        "id": "UyBD4O2yHO-4"
      },
      "execution_count": null,
      "outputs": []
    },
    {
      "cell_type": "markdown",
      "source": [
        "### SVM"
      ],
      "metadata": {
        "id": "eT00ieYAcNUj"
      }
    },
    {
      "cell_type": "code",
      "execution_count": null,
      "metadata": {
        "id": "qxFseaGVe5Bm",
        "colab": {
          "base_uri": "https://localhost:8080/"
        },
        "outputId": "6de2ae18-9441-4bf8-9c4b-9dee1fa4fd61"
      },
      "outputs": [
        {
          "output_type": "stream",
          "name": "stdout",
          "text": [
            "Accuracy: 0.9909\n"
          ]
        }
      ],
      "source": [
        "svm_model = SVC(\n",
        "    probability = True,\n",
        "    kernel = 'rbf',\n",
        "    C = 1.0,\n",
        "    gamma = 'scale',\n",
        "    class_weight = 'balanced',\n",
        "    random_state=42\n",
        ") # creates the model\n",
        "svm_model.fit(X_train, y_train) # trains the model\n",
        "svm_pred = svm_model.predict(X_test) # makes predictions on test set\n",
        "\n",
        "svm_accuracy = accuracy_score(y_test, svm_pred) # evaluates model\n",
        "print(f'Accuracy: {svm_accuracy:.4f}')"
      ]
    },
    {
      "cell_type": "code",
      "source": [
        "pathname = '/content/drive/My Drive/Data Mining Project/Imports/'\n",
        "pickle.dump(svm_model, open(pathname + 'svm_model.sav', 'wb'))"
      ],
      "metadata": {
        "id": "wWcnnjlfA_Yj"
      },
      "execution_count": null,
      "outputs": []
    },
    {
      "cell_type": "markdown",
      "metadata": {
        "id": "CWLj6DFjztOk"
      },
      "source": [
        "### Neural Network"
      ]
    },
    {
      "cell_type": "code",
      "execution_count": null,
      "metadata": {
        "id": "4Mm9I7Y3zxwn"
      },
      "outputs": [],
      "source": [
        "input_dim = X_train.shape[1]\n",
        "\n",
        "nn_model = Sequential()\n",
        "nn_model.add(Input(shape=(input_dim,)))\n",
        "nn_model.add(Dense(units=64, activation='relu'))\n",
        "nn_model.add(Dropout(0.2))\n",
        "nn_model.add(Dense(units=32, activation='relu'))\n",
        "nn_model.add(Dropout(0.2))\n",
        "nn_model.add(Dense(units=1, activation='sigmoid'))"
      ]
    },
    {
      "cell_type": "code",
      "execution_count": null,
      "metadata": {
        "id": "wJ_1qYu0z08g"
      },
      "outputs": [],
      "source": [
        "# Compile the NN\n",
        "nn_model.compile(optimizer = 'adam', loss = 'binary_crossentropy', metrics = ['accuracy'])"
      ]
    },
    {
      "cell_type": "code",
      "execution_count": null,
      "metadata": {
        "colab": {
          "base_uri": "https://localhost:8080/"
        },
        "id": "b1dyPhvPz3Ws",
        "outputId": "e5f6eb93-5f41-4575-e656-9923b0ba21ed"
      },
      "outputs": [
        {
          "output_type": "stream",
          "name": "stdout",
          "text": [
            "Epoch 1/10\n",
            "\u001b[1m846/846\u001b[0m \u001b[32m━━━━━━━━━━━━━━━━━━━━\u001b[0m\u001b[37m\u001b[0m \u001b[1m101s\u001b[0m 112ms/step - accuracy: 0.9441 - loss: 0.2255\n",
            "Epoch 2/10\n",
            "\u001b[1m846/846\u001b[0m \u001b[32m━━━━━━━━━━━━━━━━━━━━\u001b[0m\u001b[37m\u001b[0m \u001b[1m123s\u001b[0m 90ms/step - accuracy: 0.9989 - loss: 0.0058\n",
            "Epoch 3/10\n",
            "\u001b[1m846/846\u001b[0m \u001b[32m━━━━━━━━━━━━━━━━━━━━\u001b[0m\u001b[37m\u001b[0m \u001b[1m73s\u001b[0m 87ms/step - accuracy: 0.9998 - loss: 0.0016\n",
            "Epoch 4/10\n",
            "\u001b[1m846/846\u001b[0m \u001b[32m━━━━━━━━━━━━━━━━━━━━\u001b[0m\u001b[37m\u001b[0m \u001b[1m78s\u001b[0m 92ms/step - accuracy: 1.0000 - loss: 2.7798e-04\n",
            "Epoch 5/10\n",
            "\u001b[1m846/846\u001b[0m \u001b[32m━━━━━━━━━━━━━━━━━━━━\u001b[0m\u001b[37m\u001b[0m \u001b[1m78s\u001b[0m 87ms/step - accuracy: 0.9999 - loss: 8.8887e-04\n",
            "Epoch 6/10\n",
            "\u001b[1m846/846\u001b[0m \u001b[32m━━━━━━━━━━━━━━━━━━━━\u001b[0m\u001b[37m\u001b[0m \u001b[1m82s\u001b[0m 87ms/step - accuracy: 1.0000 - loss: 8.4365e-05\n",
            "Epoch 7/10\n",
            "\u001b[1m846/846\u001b[0m \u001b[32m━━━━━━━━━━━━━━━━━━━━\u001b[0m\u001b[37m\u001b[0m \u001b[1m82s\u001b[0m 86ms/step - accuracy: 0.9999 - loss: 9.1239e-04\n",
            "Epoch 8/10\n",
            "\u001b[1m846/846\u001b[0m \u001b[32m━━━━━━━━━━━━━━━━━━━━\u001b[0m\u001b[37m\u001b[0m \u001b[1m83s\u001b[0m 87ms/step - accuracy: 1.0000 - loss: 7.4790e-05\n",
            "Epoch 9/10\n",
            "\u001b[1m846/846\u001b[0m \u001b[32m━━━━━━━━━━━━━━━━━━━━\u001b[0m\u001b[37m\u001b[0m \u001b[1m73s\u001b[0m 86ms/step - accuracy: 0.9999 - loss: 4.1412e-04\n",
            "Epoch 10/10\n",
            "\u001b[1m846/846\u001b[0m \u001b[32m━━━━━━━━━━━━━━━━━━━━\u001b[0m\u001b[37m\u001b[0m \u001b[1m82s\u001b[0m 86ms/step - accuracy: 1.0000 - loss: 1.2593e-04\n"
          ]
        },
        {
          "output_type": "execute_result",
          "data": {
            "text/plain": [
              "<keras.src.callbacks.history.History at 0x7b7693031850>"
            ]
          },
          "metadata": {},
          "execution_count": 37
        }
      ],
      "source": [
        "# Train the NN Model\n",
        "nn_model.fit(X_train, y_train, batch_size = 32, epochs = 10)"
      ]
    },
    {
      "cell_type": "code",
      "execution_count": null,
      "metadata": {
        "colab": {
          "base_uri": "https://localhost:8080/"
        },
        "id": "9naxaUbc0EMi",
        "outputId": "8b3f140e-71a9-4662-9842-26da67978f90"
      },
      "outputs": [
        {
          "output_type": "stream",
          "name": "stdout",
          "text": [
            "\u001b[1m363/363\u001b[0m \u001b[32m━━━━━━━━━━━━━━━━━━━━\u001b[0m\u001b[37m\u001b[0m \u001b[1m6s\u001b[0m 16ms/step\n",
            "Accuracy: 0.9906\n"
          ]
        }
      ],
      "source": [
        "nn_pred = nn_model.predict(X_test).round() # makes prediction\n",
        "nn_accuracy = accuracy_score(y_test, nn_pred) # evaluates model\n",
        "print(f'Accuracy: {nn_accuracy:.4f}')"
      ]
    },
    {
      "cell_type": "code",
      "source": [
        "pickle.dump(nn_model, open(pathname + 'nn_model.sav', 'wb'))"
      ],
      "metadata": {
        "id": "uYWHU6lZEe-8"
      },
      "execution_count": null,
      "outputs": []
    },
    {
      "cell_type": "markdown",
      "metadata": {
        "id": "W4Xqjfk9UXQj"
      },
      "source": [
        "### Ensemble (Bagging)"
      ]
    },
    {
      "cell_type": "code",
      "execution_count": null,
      "metadata": {
        "id": "VtgbaPwgS3FQ",
        "colab": {
          "base_uri": "https://localhost:8080/"
        },
        "outputId": "ff8f41f7-a12f-4912-8802-19927d116a08"
      },
      "outputs": [
        {
          "output_type": "stream",
          "name": "stdout",
          "text": [
            "Accuracy: 0.9967\n"
          ]
        }
      ],
      "source": [
        "bag_model = BaggingClassifier(\n",
        "    n_estimators=50,\n",
        "    max_samples=0.8,\n",
        "    max_features=0.8\n",
        ") # creates the model with parameters to avoid overfitting\n",
        "bag_model.fit(X_train, y_train) # trains the model\n",
        "bag_pred = bag_model.predict(X_test) # makes prediction on test set\n",
        "\n",
        "bag_accuracy = accuracy_score(y_test, bag_pred) # evaluates model\n",
        "print(f\"Accuracy: {bag_accuracy:.4f}\")"
      ]
    },
    {
      "cell_type": "code",
      "source": [
        "pickle.dump(bag_model, open(pathname + 'bag_model.sav', 'wb'))"
      ],
      "metadata": {
        "id": "AyJRAYQJETtV"
      },
      "execution_count": null,
      "outputs": []
    },
    {
      "cell_type": "markdown",
      "source": [
        "### Decision Tree"
      ],
      "metadata": {
        "id": "aqLCE6kXsovW"
      }
    },
    {
      "cell_type": "code",
      "source": [
        "dt_model = DecisionTreeClassifier(\n",
        "    criterion='gini',\n",
        "    max_depth=15,\n",
        "    min_samples_split=5,\n",
        "    min_samples_leaf=2,\n",
        "    random_state=42\n",
        ") # creates the model with parameters to avoid overfitting\n",
        "dt_model.fit(X_train, y_train) # trains the model\n",
        "dt_pred = dt_model.predict(X_test) # makes prediction on test set\n",
        "\n",
        "dt_accuracy = accuracy_score(y_test, dt_pred) # evaluates model\n",
        "print(f\"Accuracy: {dt_accuracy:.4f}\")"
      ],
      "metadata": {
        "colab": {
          "base_uri": "https://localhost:8080/"
        },
        "id": "Y8xBAm1Wsn-F",
        "outputId": "b96008b9-4725-49fc-ca15-7b551d658553"
      },
      "execution_count": null,
      "outputs": [
        {
          "output_type": "stream",
          "name": "stdout",
          "text": [
            "Accuracy: 0.9952\n"
          ]
        }
      ]
    },
    {
      "cell_type": "code",
      "source": [
        "pickle.dump(dt_model, open(pathname + 'dt_model.sav', 'wb'))"
      ],
      "metadata": {
        "id": "gUnHq1tItCeA"
      },
      "execution_count": null,
      "outputs": []
    },
    {
      "cell_type": "markdown",
      "metadata": {
        "id": "P_VeqkVUVs5_"
      },
      "source": [
        "## 6. Metrics Evaluation"
      ]
    },
    {
      "cell_type": "code",
      "source": [
        "# Our set of models\n",
        "models = {\n",
        "    \"Logistic Regression\": lr_model,\n",
        "    \"SVM\": svm_model,\n",
        "    \"Neural Network\": nn_model,\n",
        "    \"Ensemble (Bagging)\": bag_model,\n",
        "    \"Decision Tree\": dt_model\n",
        "}"
      ],
      "metadata": {
        "id": "2_hIUVpbErgP"
      },
      "execution_count": null,
      "outputs": []
    },
    {
      "cell_type": "markdown",
      "source": [
        "### Sample ROC-AUC score code for one of the models (SVM)"
      ],
      "metadata": {
        "id": "_ofokVNFFslL"
      }
    },
    {
      "cell_type": "code",
      "execution_count": null,
      "metadata": {
        "id": "lM-YmnS6VB3M",
        "collapsed": true
      },
      "outputs": [],
      "source": [
        "# Predict probabilities on test data (svm)\n",
        "model = svm_model\n",
        "predict_proba = model.predict_proba(X_test)\n",
        "predict_proba"
      ]
    },
    {
      "cell_type": "code",
      "source": [
        "# Extract probabilities of fake news\n",
        "predict_proba_positive = predict_proba[:, 1]\n",
        "predict_proba_positive"
      ],
      "metadata": {
        "id": "ASbAz0pgl8jo"
      },
      "execution_count": null,
      "outputs": []
    },
    {
      "cell_type": "code",
      "source": [
        "# Calculate the ROC AUC score\n",
        "roc_auc = roc_auc_score(y_test, predict_proba_positive)\n",
        "print(f\"ROC AUC Score: {roc_auc:.4f}\")"
      ],
      "metadata": {
        "id": "XO1Nk6I3mN1Y"
      },
      "execution_count": null,
      "outputs": []
    },
    {
      "cell_type": "markdown",
      "metadata": {
        "id": "-rTF-3btY539"
      },
      "source": [
        "### Running through all the models"
      ]
    },
    {
      "cell_type": "code",
      "source": [
        "auc_scores = {}\n",
        "predict_proba_dict = {}\n",
        "\n",
        "for model_name, model in models.items():\n",
        "    if model_name == \"Neural Network\":\n",
        "        # Neural Network: Get probabilities from the output layer\n",
        "        predict_proba = model.predict(X_test)\n",
        "        predict_proba = predict_proba.ravel()\n",
        "    else:\n",
        "        # For other models, use predict_proba to get probabilities for the positive class\n",
        "        predict_proba = model.predict_proba(X_test)[:, 1]  # This gets the probability for the positive class (index 1)\n",
        "\n",
        "    predict_proba_dict[model_name] = predict_proba\n",
        "\n",
        "    # Calculate ROC AUC score and store it in auc_scores\n",
        "    try:\n",
        "        roc_auc = roc_auc_score(y_test, predict_proba)\n",
        "        auc_scores[model_name] = roc_auc\n",
        "        print(f\"{model_name} ROC AUC Score: {roc_auc:.4f}\")\n",
        "    except Exception as e:\n",
        "        print(f\"Error calculating ROC AUC for {model_name}: {e}\")"
      ],
      "metadata": {
        "id": "qezh5-ACuXpY",
        "outputId": "acb7ab3c-39a3-4663-d407-60f1c6946c5f",
        "colab": {
          "base_uri": "https://localhost:8080/"
        }
      },
      "execution_count": null,
      "outputs": [
        {
          "output_type": "stream",
          "name": "stdout",
          "text": [
            "Logistic Regression ROC AUC Score: 0.9944\n",
            "SVM ROC AUC Score: 0.9988\n",
            "\u001b[1m363/363\u001b[0m \u001b[32m━━━━━━━━━━━━━━━━━━━━\u001b[0m\u001b[37m\u001b[0m \u001b[1m6s\u001b[0m 17ms/step\n",
            "Neural Network ROC AUC Score: 0.9987\n",
            "Ensemble (Bagging) ROC AUC Score: 0.9997\n",
            "Decision Tree ROC AUC Score: 0.9943\n"
          ]
        }
      ]
    },
    {
      "cell_type": "code",
      "source": [
        "pathname = '/content/drive/My Drive/Data Mining Project/Imports/'\n",
        "pickle.dump(auc_scores, open(pathname + 'auc_scores.pkl', \"wb\"))"
      ],
      "metadata": {
        "id": "kOfVZgYFG90U"
      },
      "execution_count": null,
      "outputs": []
    },
    {
      "cell_type": "code",
      "source": [
        "predict_proba_dict"
      ],
      "metadata": {
        "colab": {
          "base_uri": "https://localhost:8080/"
        },
        "id": "aNTHCkCJULtA",
        "outputId": "de79d3ce-457c-488d-8d10-e1fd28941131"
      },
      "execution_count": null,
      "outputs": [
        {
          "output_type": "execute_result",
          "data": {
            "text/plain": [
              "{'SVM': array([5.15974129e-04, 1.29947092e-01, 1.92487841e-05, ...,\n",
              "        9.99999991e-01, 9.99994338e-01, 1.00000000e+00]),\n",
              " 'Neural Network': array([1.8046136e-09, 4.8240454e-06, 1.8235061e-08, ..., 9.9999988e-01,\n",
              "        9.9999768e-01, 9.9999982e-01], dtype=float32),\n",
              " 'Ensemble (AdaBoost)': array([0.4254089 , 0.33089215, 0.36820427, ..., 0.6678166 , 0.61786959,\n",
              "        0.67560367]),\n",
              " 'Ensemble (Bagging)': array([0.08, 0.  , 0.  , ..., 0.94, 0.98, 0.98]),\n",
              " 'Decision Tree': array([0., 0., 0., ..., 1., 1., 1.])}"
            ]
          },
          "metadata": {},
          "execution_count": 18
        }
      ]
    },
    {
      "cell_type": "markdown",
      "source": [
        "### Producing a plot for ROC curves"
      ],
      "metadata": {
        "id": "RiTPnZwgGCxC"
      }
    },
    {
      "cell_type": "code",
      "source": [
        "save_dir = \"/content/drive/My Drive/Data Mining Project/Plots/\"\n",
        "os.makedirs(save_dir, exist_ok=True)\n",
        "\n",
        "# Set up the plot\n",
        "plt.figure(figsize=(10, 8))\n",
        "\n",
        "# Plot the random classifier baseline\n",
        "plt.plot([0, 1], [0, 1], 'k--', label='Random Classifier')\n",
        "\n",
        "# Plot ROC curve for each model\n",
        "for model_name, predict_proba in predict_proba_dict.items():\n",
        "    fpr, tpr, _ = roc_curve(y_test, predict_proba)\n",
        "    roc_auc = auc(fpr, tpr)\n",
        "    plt.plot(fpr, tpr, label=f'{model_name} (AUC = {roc_auc:.4f})')\n",
        "\n",
        "# Labels and Title\n",
        "plt.xlabel('False Positive Rate')\n",
        "plt.ylabel('True Positive Rate')\n",
        "plt.title('ROC Curves for Different Models')\n",
        "\n",
        "# Display legend\n",
        "plt.legend(loc = \"lower right\")\n",
        "\n",
        "# Show the plot\n",
        "save_path = os.path.join(save_dir, 'roc_curves.png')\n",
        "plt.savefig(save_path)\n",
        "plt.show()"
      ],
      "metadata": {
        "colab": {
          "base_uri": "https://localhost:8080/",
          "height": 718
        },
        "id": "YLMwfWxnvWOK",
        "outputId": "8b487410-0990-4c1c-e951-55b817bbb905"
      },
      "execution_count": null,
      "outputs": [
        {
          "output_type": "display_data",
          "data": {
            "text/plain": [
              "<Figure size 1000x800 with 1 Axes>"
            ],
            "image/png": "[encoded data removed]"
          },
          "metadata": {}
        }
      ]
    },
    {
      "cell_type": "markdown",
      "source": [
        "* Closer to the Top-Left Corner: Indicates a better performance. This means a higher TPR and a lower FPR.\n",
        "* Area Under the Curve (AUC): A single scalar value summarizing the performance of the classifier. The closer the AUC is to 1, the better the model."
      ],
      "metadata": {
        "id": "LulaySiTlBdG"
      }
    },
    {
      "cell_type": "markdown",
      "source": [
        "### Code to generate individual plots for each model"
      ],
      "metadata": {
        "id": "jyYk60QoGJyj"
      }
    },
    {
      "cell_type": "code",
      "source": [
        "save_dir = \"/content/drive/My Drive/Data Mining Project/Plots/\"\n",
        "os.makedirs(save_dir, exist_ok=True)\n",
        "\n",
        "# Set up the plot\n",
        "plt.figure(figsize=(10, 8))\n",
        "\n",
        "# Plot the random classifier baseline\n",
        "plt.plot([0, 1], [0, 1], 'k--', label='Random Classifier')\n",
        "\n",
        "for model_name, model in models.items():\n",
        "    if model_name == \"Neural Network\":\n",
        "        # Neural Network: Get probabilities from the output layer\n",
        "        predict_proba = model.predict(X_test)\n",
        "        predict_proba = predict_proba.ravel()\n",
        "    else:\n",
        "        # For other models, use predict_proba to get probabilities for the positive class\n",
        "        predict_proba = model.predict_proba(X_test)[:, 1]  # This gets the probability for the positive class (index 1)\n",
        "\n",
        "    fpr, tpr, _ = roc_curve(y_test, predict_proba)\n",
        "    roc_auc = auc(fpr, tpr)\n",
        "    plt.plot(fpr, tpr, label=f'{model_name} (AUC = {roc_auc:.2f})')\n",
        "\n",
        "    plt.xlabel('False Positive Rate')\n",
        "    plt.ylabel('True Positive Rate')\n",
        "    plt.legend(loc=\"lower right\")\n",
        "\n",
        "    # Save the plot to Google Drive\n",
        "    save_path = os.path.join(save_dir, f'{model_name}_ROC_Curve.png')\n",
        "    plt.savefig(save_path)\n",
        "    plt.close()  # Close the plot to avoid overlapping"
      ],
      "metadata": {
        "id": "wcKPJgsibiuP",
        "colab": {
          "base_uri": "https://localhost:8080/"
        },
        "outputId": "b39da626-f677-47c6-ca6c-98eea8dc4b33"
      },
      "execution_count": null,
      "outputs": [
        {
          "output_type": "stream",
          "name": "stdout",
          "text": [
            "\u001b[1m363/363\u001b[0m \u001b[32m━━━━━━━━━━━━━━━━━━━━\u001b[0m\u001b[37m\u001b[0m \u001b[1m6s\u001b[0m 17ms/step\n"
          ]
        }
      ]
    },
    {
      "cell_type": "markdown",
      "source": [
        "### Code to generate individual confusion matrices for each model"
      ],
      "metadata": {
        "id": "o5iI8dgkGPBx"
      }
    },
    {
      "cell_type": "code",
      "source": [
        "for model_name, model in models.items():\n",
        "    # Predict on the test set\n",
        "    if model_name == \"Neural Network\":\n",
        "        y_pred = model.predict(X_test).round()\n",
        "    else:\n",
        "        y_pred = model.predict(X_test)\n",
        "\n",
        "    # Calculate the confusion matrix\n",
        "    cm = confusion_matrix(y_test, y_pred)\n",
        "\n",
        "    # Plot the confusion matrix\n",
        "    plt.figure(figsize=(8, 6))  # Customize figure size\n",
        "    sns.heatmap(cm, annot=True, fmt=\"d\", cmap=\"Blues\",\n",
        "                xticklabels=['True', 'Fake'], yticklabels=['True', 'Fake']) # Customize colormap and labels\n",
        "    plt.xlabel('Predicted')\n",
        "    plt.ylabel('Actual')\n",
        "\n",
        "    # Save the plot\n",
        "    save_path = os.path.join(save_dir, f'{model_name}_Confusion_Matrix.png')\n",
        "    plt.savefig(save_path)\n",
        "    plt.close() # Close the plot"
      ],
      "metadata": {
        "id": "ZneM22vSb9zq",
        "colab": {
          "base_uri": "https://localhost:8080/"
        },
        "outputId": "d374d53c-2562-4383-9b14-d6e235930bbc"
      },
      "execution_count": null,
      "outputs": [
        {
          "output_type": "stream",
          "name": "stdout",
          "text": [
            "\u001b[1m363/363\u001b[0m \u001b[32m━━━━━━━━━━━━━━━━━━━━\u001b[0m\u001b[37m\u001b[0m \u001b[1m6s\u001b[0m 17ms/step\n"
          ]
        }
      ]
    },
    {
      "cell_type": "markdown",
      "source": [
        "### Code to generate accuracy, precision, recall, and F1-score for each model"
      ],
      "metadata": {
        "id": "WRAxmlE8KQqM"
      }
    },
    {
      "cell_type": "code",
      "source": [
        "for model_name, model in models.items():\n",
        "    # Predict on the test set\n",
        "    if model_name == \"Neural Network\":\n",
        "        y_pred = model.predict(X_test).round()\n",
        "    else:\n",
        "        y_pred = model.predict(X_test)\n",
        "\n",
        "    # Calculate metrics\n",
        "    accuracy = accuracy_score(y_test, y_pred)\n",
        "    precision = precision_score(y_test, y_pred)\n",
        "    recall = recall_score(y_test, y_pred)\n",
        "    f1 = f1_score(y_test, y_pred)\n",
        "\n",
        "    print(f\"Model: {model_name}\")\n",
        "    print(f\"  Accuracy: {accuracy:.4f}\")\n",
        "    print(f\"  Precision: {precision:.4f}\")\n",
        "    print(f\"  Recall: {recall:.4f}\")\n",
        "    print(f\"  F1-score: {f1:.4f}\")\n",
        "    print(\"-\" * 20)  # Separator for better readability"
      ],
      "metadata": {
        "colab": {
          "base_uri": "https://localhost:8080/"
        },
        "id": "TtryD1DvKV-8",
        "outputId": "0f1c2cee-0ba2-4f89-82f3-0fdb7074e40c"
      },
      "execution_count": null,
      "outputs": [
        {
          "output_type": "stream",
          "name": "stdout",
          "text": [
            "Model: Logistic Regression\n",
            "  Accuracy: 0.9682\n",
            "  Precision: 0.9804\n",
            "  Recall: 0.9489\n",
            "  F1-score: 0.9644\n",
            "--------------------\n",
            "Model: SVM\n",
            "  Accuracy: 0.9909\n",
            "  Precision: 0.9926\n",
            "  Recall: 0.9875\n",
            "  F1-score: 0.9900\n",
            "--------------------\n",
            "\u001b[1m363/363\u001b[0m \u001b[32m━━━━━━━━━━━━━━━━━━━━\u001b[0m\u001b[37m\u001b[0m \u001b[1m7s\u001b[0m 19ms/step\n",
            "Model: Neural Network\n",
            "  Accuracy: 0.9906\n",
            "  Precision: 0.9907\n",
            "  Recall: 0.9886\n",
            "  F1-score: 0.9896\n",
            "--------------------\n",
            "Model: Ensemble (Bagging)\n",
            "  Accuracy: 0.9966\n",
            "  Precision: 0.9990\n",
            "  Recall: 0.9935\n",
            "  F1-score: 0.9963\n",
            "--------------------\n",
            "Model: Decision Tree\n",
            "  Accuracy: 0.9952\n",
            "  Precision: 0.9968\n",
            "  Recall: 0.9926\n",
            "  F1-score: 0.9947\n",
            "--------------------\n"
          ]
        }
      ]
    },
    {
      "cell_type": "markdown",
      "source": [
        "# Loading"
      ],
      "metadata": {
        "id": "NfcdShkWcw3t"
      }
    },
    {
      "cell_type": "code",
      "source": [
        "# I saved some things in the drive so that we don't have to\n",
        "# fit the models again everytime\n",
        "# We only need to run this cell\n",
        "\n",
        "filename = '/content/drive/My Drive/Data Mining Project/Imports'\n",
        "lr_model = pickle.load(open(filename + '/lr_model.sav', 'rb'))\n",
        "svm_model = pickle.load(open(filename + '/svm_model.sav', 'rb'))\n",
        "nn_model = pickle.load(open(filename + '/nn_model.sav', 'rb'))\n",
        "bag_model = pickle.load(open(filename + '/bag_model.sav', 'rb'))\n",
        "dt_model = pickle.load(open(filename + '/dt_model.sav', 'rb'))\n",
        "vectorizer = pickle.load(open(filename + \"/tfidf_vectorizer.pkl\", \"rb\"))\n",
        "X_test = pickle.load(open(filename + \"/X_test.pkl\", \"rb\"))\n",
        "y_test = pickle.load(open(filename + \"/y_test.pkl\", \"rb\"))\n",
        "X_train = pickle.load(open(filename + \"/X_train.pkl\", \"rb\"))\n",
        "y_train = pickle.load(open(filename + \"/y_train.pkl\", \"rb\"))\n",
        "auc_scores = pickle.load(open(filename + \"/auc_scores.pkl\", \"rb\"))\n"
      ],
      "metadata": {
        "id": "NZS19lYgczYq"
      },
      "execution_count": null,
      "outputs": []
    },
    {
      "cell_type": "code",
      "source": [
        "models = {\n",
        "    \"Logistic Regression\": lr_model,\n",
        "    \"SVM\": svm_model,\n",
        "    \"Neural Network\": nn_model,\n",
        "    \"Ensemble (Bagging)\": bag_model,\n",
        "    \"Decision Tree\": dt_model\n",
        "}"
      ],
      "metadata": {
        "id": "AWwPspPpjY-U"
      },
      "execution_count": null,
      "outputs": []
    },
    {
      "cell_type": "markdown",
      "source": [
        "## Final Task: Pass A Random Text Here to Predict If It's A Fake News Or Not.\n",
        "Here is the workflow of the fucntion of detecting fake news:\n",
        "1.  Check the user's input. If they don't put any --> skip.\n",
        "2.  If there is input, then continue feed those texts into TF-IDF to create a numerical vector.\n",
        "3. Since we already saved the models, we loop through each model, then:\n",
        "* If the model is not a Neural Network, it directly takes the prediction ([0] to get the first prediction)\n",
        "* For Neural Networks, the prediction is rounded (.round()) to get a binary output (0 or 1).\n",
        "* Print and store predictions from those models.\n",
        "* Print the probability prediction for Fake news (percentage of being a fake news) --> if the model doesn't have this prediction , prints out N/A.\n",
        "4. Print out AUC score for each models to test their performances.\n",
        "5. After have all the prediction, if the majority of predictions are Fake, then it's a fake article. Otherwise, it's a real article.\n"
      ],
      "metadata": {
        "id": "ruMy4V3ytVTf"
      }
    },
    {
      "cell_type": "code",
      "source": [
        "# Method to predict fake news\n",
        "def predict_fake_news(user_text):\n",
        "    # Check if the text is empty before prediction\n",
        "    if not user_text:  # If user_text is empty, it will skip this article\n",
        "        print(\"Empty text received, skipping prediction.\")\n",
        "        return\n",
        "\n",
        "    text_vectorized = vectorizer.transform([user_text])\n",
        "\n",
        "    predictions = [] # Initialize an empty list to store predictions\n",
        "\n",
        "    print(\"\\nPrediction Results:\")\n",
        "    for name, model in models.items():\n",
        "        prediction = model.predict(text_vectorized)[0] if name != \"Neural Network\" else model.predict(text_vectorized).round()[0]\n",
        "        predictions.append(prediction) # Append the prediction to the list\n",
        "        prob = model.predict_proba(text_vectorized)[:, 1] if hasattr(model, \"predict_proba\") else \"N/A\"\n",
        "        print(f\"{name}: {'Fake' if prediction == 1 else 'Real'}, Probability: {prob}\")\n",
        "\n",
        "    # Majority vote using the list of predictions\n",
        "    majority_vote = sum(predictions) > len(predictions) / 2\n",
        "\n",
        "    print(\"\\nThis article is more likely: \" + (\"Fake\" if majority_vote else \"Real\"))"
      ],
      "metadata": {
        "id": "BZFI9JKgtUJi"
      },
      "execution_count": null,
      "outputs": []
    },
    {
      "cell_type": "code",
      "source": [
        "# Method to extract needed text from URLS\n",
        "def extract_website_text(url):\n",
        "    try:\n",
        "        article = Article(url) # creates an article project with url as input\n",
        "        article.download() # downloads content at given url\n",
        "        article.parse() # parses content to extract necessary data\n",
        "\n",
        "        # Get the headline and article text\n",
        "        headline = article.title\n",
        "        content = article.text\n",
        "\n",
        "        # Combine headline and content\n",
        "        extracted_text = f\"{headline} {content}\"\n",
        "        return extracted_text\n",
        "\n",
        "    except Exception as e:\n",
        "        print(f\"Error extracting text from URL: {e}\")\n",
        "        return \"\""
      ],
      "metadata": {
        "id": "yO-7ko_MhjMz"
      },
      "execution_count": null,
      "outputs": []
    },
    {
      "cell_type": "markdown",
      "source": [
        "# User Input"
      ],
      "metadata": {
        "id": "XhSKkotBMqSM"
      }
    },
    {
      "cell_type": "code",
      "source": [
        "user_input = input(\"Enter 1 for text, Enter 2 for URLs: \")\n",
        "if user_input == \"1\":\n",
        "    user_input = input(\"Enter your text: \")\n",
        "    predict_fake_news(user_input)\n",
        "elif user_input == \"2\":\n",
        "    user_input = input(\"Enter the URL: \")\n",
        "    website_text = extract_website_text(user_input)\n",
        "    predict_fake_news(website_text)\n",
        "else:\n",
        "    print(\"Invalid input. Please enter 1 or 2.\")"
      ],
      "metadata": {
        "id": "bwBsipB8v2T-",
        "colab": {
          "base_uri": "https://localhost:8080/"
        },
        "outputId": "b6df99e2-7d04-4c70-b0ce-9325a5d09195"
      },
      "execution_count": null,
      "outputs": [
        {
          "output_type": "stream",
          "name": "stdout",
          "text": [
            "Enter 1 for text, Enter 2 for URLs: 2\n",
            "Enter the URL: https://www.whitehouse.gov/articles/2025/03/president-trump-is-remaking-america-into-a-manufacturing-superpower/\n",
            "\n",
            "Prediction Results:\n",
            "Logistic Regression: Real, Probability: [0.42283734]\n",
            "SVM: Fake, Probability: [0.80144428]\n",
            "\u001b[1m1/1\u001b[0m \u001b[32m━━━━━━━━━━━━━━━━━━━━\u001b[0m\u001b[37m\u001b[0m \u001b[1m0s\u001b[0m 108ms/step\n",
            "Neural Network: Fake, Probability: N/A\n",
            "Ensemble (Bagging): Fake, Probability: [0.9]\n",
            "Decision Tree: Fake, Probability: [0.99941798]\n",
            "\n",
            "This article is more likely: Fake\n"
          ]
        }
      ]
    }
  ],
  "metadata": {
    "colab": {
      "collapsed_sections": [
        "CBxKSGYj557J",
        "56JYTynPB_Aj",
        "izKcbRllfeOq",
        "MBAXxstFpdtN",
        "gYzxJteCSJSK",
        "mf-wXqK0jwgl",
        "NfcdShkWcw3t",
        "ruMy4V3ytVTf"
      ],
      "provenance": []
    },
    "kernelspec": {
      "display_name": "Python 3",
      "name": "python3"
    },
    "language_info": {
      "name": "python"
    }
  },
  "nbformat": 4,
  "nbformat_minor": 0
}